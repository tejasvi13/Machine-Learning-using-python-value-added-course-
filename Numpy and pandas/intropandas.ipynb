{
 "cells": [
  {
   "cell_type": "code",
   "execution_count": 1,
   "id": "960c7bb6-7580-42b6-ae16-8a5e8e8199dd",
   "metadata": {
    "tags": []
   },
   "outputs": [],
   "source": [
    "import pandas as pd"
   ]
  },
  {
   "cell_type": "code",
   "execution_count": 2,
   "id": "f1a6c67f-1ff3-4cc4-9ee5-b69f81cc733e",
   "metadata": {
    "tags": []
   },
   "outputs": [],
   "source": [
    "import numpy as np"
   ]
  },
  {
   "cell_type": "code",
   "execution_count": 3,
   "id": "9c6bc561-489d-413d-ac1a-ecb036801389",
   "metadata": {
    "tags": []
   },
   "outputs": [],
   "source": [
    "my_series=pd.Series([1,2,3,'hello',4,5,-34])"
   ]
  },
  {
   "cell_type": "code",
   "execution_count": 4,
   "id": "672ae898-3c3b-4ab6-9bf5-f29b605de72f",
   "metadata": {
    "tags": []
   },
   "outputs": [
    {
     "data": {
      "text/plain": [
       "0        1\n",
       "1        2\n",
       "2        3\n",
       "3    hello\n",
       "4        4\n",
       "5        5\n",
       "6      -34\n",
       "dtype: object"
      ]
     },
     "execution_count": 4,
     "metadata": {},
     "output_type": "execute_result"
    }
   ],
   "source": [
    "my_series# Series is 1d array"
   ]
  },
  {
   "cell_type": "code",
   "execution_count": 5,
   "id": "20e63237-fc20-4a5e-a79a-03c7598f4098",
   "metadata": {
    "tags": []
   },
   "outputs": [
    {
     "data": {
      "text/plain": [
       "pandas.core.series.Series"
      ]
     },
     "execution_count": 5,
     "metadata": {},
     "output_type": "execute_result"
    }
   ],
   "source": [
    "type(my_series)"
   ]
  },
  {
   "cell_type": "code",
   "execution_count": 6,
   "id": "1189bd7b-ed71-425e-ac90-2fa226eb1f61",
   "metadata": {
    "tags": []
   },
   "outputs": [],
   "source": [
    "my_series=pd.Series([1,2,3,'hi',4,3,-34],index=['a','b','c','d','e','f','g'])"
   ]
  },
  {
   "cell_type": "code",
   "execution_count": 7,
   "id": "528d1039-55b7-4171-8ef2-63a6185a1467",
   "metadata": {
    "tags": []
   },
   "outputs": [
    {
     "data": {
      "text/plain": [
       "a      1\n",
       "b      2\n",
       "c      3\n",
       "d     hi\n",
       "e      4\n",
       "f      3\n",
       "g    -34\n",
       "dtype: object"
      ]
     },
     "execution_count": 7,
     "metadata": {},
     "output_type": "execute_result"
    }
   ],
   "source": [
    "my_series"
   ]
  },
  {
   "cell_type": "code",
   "execution_count": 8,
   "id": "a4ec153a-1781-4e88-8485-cc353dd2a25f",
   "metadata": {
    "tags": []
   },
   "outputs": [],
   "source": [
    "my_series=pd.Series({'washington':12,'russia':123})"
   ]
  },
  {
   "cell_type": "code",
   "execution_count": 9,
   "id": "ddb302d1-1f12-4ab9-8f17-7148a7d4ef9f",
   "metadata": {
    "tags": []
   },
   "outputs": [
    {
     "data": {
      "text/plain": [
       "washington     12\n",
       "russia        123\n",
       "dtype: int64"
      ]
     },
     "execution_count": 9,
     "metadata": {},
     "output_type": "execute_result"
    }
   ],
   "source": [
    "my_series"
   ]
  },
  {
   "cell_type": "code",
   "execution_count": 10,
   "id": "2fe5334d-3ea4-4fe5-8603-a5d7627894c3",
   "metadata": {
    "tags": []
   },
   "outputs": [
    {
     "data": {
      "text/plain": [
       "russia    123\n",
       "dtype: int64"
      ]
     },
     "execution_count": 10,
     "metadata": {},
     "output_type": "execute_result"
    }
   ],
   "source": [
    "my_series[my_series>=100]"
   ]
  },
  {
   "cell_type": "code",
   "execution_count": null,
   "id": "767fc731-5d19-4467-9389-1733aa5fb65f",
   "metadata": {},
   "outputs": [],
   "source": []
  }
 ],
 "metadata": {
  "kernelspec": {
   "display_name": "Python 3 (ipykernel)",
   "language": "python",
   "name": "python3"
  },
  "language_info": {
   "codemirror_mode": {
    "name": "ipython",
    "version": 3
   },
   "file_extension": ".py",
   "mimetype": "text/x-python",
   "name": "python",
   "nbconvert_exporter": "python",
   "pygments_lexer": "ipython3",
   "version": "3.10.9"
  }
 },
 "nbformat": 4,
 "nbformat_minor": 5
}
