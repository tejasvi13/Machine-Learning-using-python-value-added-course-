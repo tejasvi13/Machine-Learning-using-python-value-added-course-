{
 "cells": [
  {
   "cell_type": "code",
   "execution_count": 1,
   "id": "d25a7a10-531e-431d-b7f2-00cb4f8601c5",
   "metadata": {
    "tags": []
   },
   "outputs": [],
   "source": [
    "import pandas as pd"
   ]
  },
  {
   "cell_type": "code",
   "execution_count": 2,
   "id": "c41f2d89-ed42-40ee-96ed-1d722b7abb18",
   "metadata": {
    "tags": []
   },
   "outputs": [],
   "source": [
    "import numpy as np\n"
   ]
  },
  {
   "cell_type": "code",
   "execution_count": 3,
   "id": "f9f4a281-1e1b-4624-aa0e-d699032dc44a",
   "metadata": {
    "tags": []
   },
   "outputs": [],
   "source": [
    "arr=np.array([[1,2,3],[4,5,6]])\n",
    "df=pd.DataFrame(arr)"
   ]
  },
  {
   "cell_type": "code",
   "execution_count": 4,
   "id": "7ade6ff8-16d8-4518-8eb6-c05806fd335b",
   "metadata": {
    "tags": []
   },
   "outputs": [
    {
     "data": {
      "text/html": [
       "<div>\n",
       "<style scoped>\n",
       "    .dataframe tbody tr th:only-of-type {\n",
       "        vertical-align: middle;\n",
       "    }\n",
       "\n",
       "    .dataframe tbody tr th {\n",
       "        vertical-align: top;\n",
       "    }\n",
       "\n",
       "    .dataframe thead th {\n",
       "        text-align: right;\n",
       "    }\n",
       "</style>\n",
       "<table border=\"1\" class=\"dataframe\">\n",
       "  <thead>\n",
       "    <tr style=\"text-align: right;\">\n",
       "      <th></th>\n",
       "      <th>0</th>\n",
       "      <th>1</th>\n",
       "      <th>2</th>\n",
       "    </tr>\n",
       "  </thead>\n",
       "  <tbody>\n",
       "    <tr>\n",
       "      <th>0</th>\n",
       "      <td>1</td>\n",
       "      <td>2</td>\n",
       "      <td>3</td>\n",
       "    </tr>\n",
       "    <tr>\n",
       "      <th>1</th>\n",
       "      <td>4</td>\n",
       "      <td>5</td>\n",
       "      <td>6</td>\n",
       "    </tr>\n",
       "  </tbody>\n",
       "</table>\n",
       "</div>"
      ],
      "text/plain": [
       "   0  1  2\n",
       "0  1  2  3\n",
       "1  4  5  6"
      ]
     },
     "execution_count": 4,
     "metadata": {},
     "output_type": "execute_result"
    }
   ],
   "source": [
    "df"
   ]
  },
  {
   "cell_type": "code",
   "execution_count": 9,
   "id": "9280ba69-e390-4d71-9a4c-93f827c9de26",
   "metadata": {
    "tags": []
   },
   "outputs": [
    {
     "data": {
      "text/plain": [
       "0    2\n",
       "1    5\n",
       "Name: 1, dtype: int32"
      ]
     },
     "execution_count": 9,
     "metadata": {},
     "output_type": "execute_result"
    }
   ],
   "source": [
    "df[1]"
   ]
  },
  {
   "cell_type": "code",
   "execution_count": 5,
   "id": "170f6e77-29aa-4812-b3aa-2facad51cd67",
   "metadata": {
    "tags": []
   },
   "outputs": [
    {
     "data": {
      "text/plain": [
       "RangeIndex(start=0, stop=3, step=1)"
      ]
     },
     "execution_count": 5,
     "metadata": {},
     "output_type": "execute_result"
    }
   ],
   "source": [
    "df.columns"
   ]
  },
  {
   "cell_type": "code",
   "execution_count": 6,
   "id": "d7470d43-f673-4718-bac4-2d4995efc259",
   "metadata": {
    "tags": []
   },
   "outputs": [],
   "source": [
    "arr=np.array([[1,2,3],[4,5,6]])\n",
    "df=pd.DataFrame(arr,columns=['col1','col2','col3'])"
   ]
  },
  {
   "cell_type": "code",
   "execution_count": 7,
   "id": "9c45775c-ea88-4031-ba1c-97c02be2a651",
   "metadata": {
    "tags": []
   },
   "outputs": [
    {
     "data": {
      "text/html": [
       "<div>\n",
       "<style scoped>\n",
       "    .dataframe tbody tr th:only-of-type {\n",
       "        vertical-align: middle;\n",
       "    }\n",
       "\n",
       "    .dataframe tbody tr th {\n",
       "        vertical-align: top;\n",
       "    }\n",
       "\n",
       "    .dataframe thead th {\n",
       "        text-align: right;\n",
       "    }\n",
       "</style>\n",
       "<table border=\"1\" class=\"dataframe\">\n",
       "  <thead>\n",
       "    <tr style=\"text-align: right;\">\n",
       "      <th></th>\n",
       "      <th>col1</th>\n",
       "      <th>col2</th>\n",
       "      <th>col3</th>\n",
       "    </tr>\n",
       "  </thead>\n",
       "  <tbody>\n",
       "    <tr>\n",
       "      <th>0</th>\n",
       "      <td>1</td>\n",
       "      <td>2</td>\n",
       "      <td>3</td>\n",
       "    </tr>\n",
       "    <tr>\n",
       "      <th>1</th>\n",
       "      <td>4</td>\n",
       "      <td>5</td>\n",
       "      <td>6</td>\n",
       "    </tr>\n",
       "  </tbody>\n",
       "</table>\n",
       "</div>"
      ],
      "text/plain": [
       "   col1  col2  col3\n",
       "0     1     2     3\n",
       "1     4     5     6"
      ]
     },
     "execution_count": 7,
     "metadata": {},
     "output_type": "execute_result"
    }
   ],
   "source": [
    "df"
   ]
  },
  {
   "cell_type": "code",
   "execution_count": 8,
   "id": "3a414fac-df61-4546-9293-e6d98de48d8f",
   "metadata": {
    "tags": []
   },
   "outputs": [],
   "source": [
    "# Dataframes from Series\n",
    "s1=pd.Series(np.random.randn(5),index=['a','b','c','d','e'])"
   ]
  },
  {
   "cell_type": "code",
   "execution_count": 9,
   "id": "465ff1ce-54eb-4caa-80bc-ea62d38554db",
   "metadata": {
    "tags": []
   },
   "outputs": [],
   "source": [
    "s2=pd.Series(np.random.randn(5),index=['a','b','c','d','e'])"
   ]
  },
  {
   "cell_type": "code",
   "execution_count": 10,
   "id": "63cabe6e-110f-4703-8cff-d725c775be47",
   "metadata": {
    "tags": []
   },
   "outputs": [
    {
     "data": {
      "text/plain": [
       "a    0.955912\n",
       "b    0.166238\n",
       "c    2.671944\n",
       "d   -0.627699\n",
       "e   -0.904872\n",
       "dtype: float64"
      ]
     },
     "execution_count": 10,
     "metadata": {},
     "output_type": "execute_result"
    }
   ],
   "source": [
    "s2"
   ]
  },
  {
   "cell_type": "code",
   "execution_count": 11,
   "id": "652899f9-04f4-457b-86f2-00e08180c727",
   "metadata": {
    "tags": []
   },
   "outputs": [],
   "source": [
    "df=pd.concat([s1,s2])"
   ]
  },
  {
   "cell_type": "code",
   "execution_count": 14,
   "id": "2ddc05c1-3e13-4944-9a40-b599eee3abd7",
   "metadata": {
    "tags": []
   },
   "outputs": [
    {
     "data": {
      "text/html": [
       "<div>\n",
       "<style scoped>\n",
       "    .dataframe tbody tr th:only-of-type {\n",
       "        vertical-align: middle;\n",
       "    }\n",
       "\n",
       "    .dataframe tbody tr th {\n",
       "        vertical-align: top;\n",
       "    }\n",
       "\n",
       "    .dataframe thead th {\n",
       "        text-align: right;\n",
       "    }\n",
       "</style>\n",
       "<table border=\"1\" class=\"dataframe\">\n",
       "  <thead>\n",
       "    <tr style=\"text-align: right;\">\n",
       "      <th></th>\n",
       "      <th>index</th>\n",
       "      <th>0</th>\n",
       "      <th>1</th>\n",
       "    </tr>\n",
       "  </thead>\n",
       "  <tbody>\n",
       "    <tr>\n",
       "      <th>0</th>\n",
       "      <td>a</td>\n",
       "      <td>-1.242096</td>\n",
       "      <td>0.955912</td>\n",
       "    </tr>\n",
       "    <tr>\n",
       "      <th>1</th>\n",
       "      <td>b</td>\n",
       "      <td>-0.741920</td>\n",
       "      <td>0.166238</td>\n",
       "    </tr>\n",
       "    <tr>\n",
       "      <th>2</th>\n",
       "      <td>c</td>\n",
       "      <td>-0.032368</td>\n",
       "      <td>2.671944</td>\n",
       "    </tr>\n",
       "    <tr>\n",
       "      <th>3</th>\n",
       "      <td>d</td>\n",
       "      <td>0.713493</td>\n",
       "      <td>-0.627699</td>\n",
       "    </tr>\n",
       "    <tr>\n",
       "      <th>4</th>\n",
       "      <td>e</td>\n",
       "      <td>0.306082</td>\n",
       "      <td>-0.904872</td>\n",
       "    </tr>\n",
       "  </tbody>\n",
       "</table>\n",
       "</div>"
      ],
      "text/plain": [
       "  index         0         1\n",
       "0     a -1.242096  0.955912\n",
       "1     b -0.741920  0.166238\n",
       "2     c -0.032368  2.671944\n",
       "3     d  0.713493 -0.627699\n",
       "4     e  0.306082 -0.904872"
      ]
     },
     "execution_count": 14,
     "metadata": {},
     "output_type": "execute_result"
    }
   ],
   "source": [
    "df"
   ]
  },
  {
   "cell_type": "code",
   "execution_count": 15,
   "id": "d1bbe0e2-f8b2-4dea-b141-5b3702b3c119",
   "metadata": {
    "tags": []
   },
   "outputs": [],
   "source": [
    "df=pd.concat([s1,s2],axis=1)"
   ]
  },
  {
   "cell_type": "code",
   "execution_count": 16,
   "id": "8448b7ef-1e2f-41d7-be47-2937f3860746",
   "metadata": {
    "tags": []
   },
   "outputs": [
    {
     "data": {
      "text/html": [
       "<div>\n",
       "<style scoped>\n",
       "    .dataframe tbody tr th:only-of-type {\n",
       "        vertical-align: middle;\n",
       "    }\n",
       "\n",
       "    .dataframe tbody tr th {\n",
       "        vertical-align: top;\n",
       "    }\n",
       "\n",
       "    .dataframe thead th {\n",
       "        text-align: right;\n",
       "    }\n",
       "</style>\n",
       "<table border=\"1\" class=\"dataframe\">\n",
       "  <thead>\n",
       "    <tr style=\"text-align: right;\">\n",
       "      <th></th>\n",
       "      <th>0</th>\n",
       "      <th>1</th>\n",
       "    </tr>\n",
       "  </thead>\n",
       "  <tbody>\n",
       "    <tr>\n",
       "      <th>a</th>\n",
       "      <td>-1.242096</td>\n",
       "      <td>0.955912</td>\n",
       "    </tr>\n",
       "    <tr>\n",
       "      <th>b</th>\n",
       "      <td>-0.741920</td>\n",
       "      <td>0.166238</td>\n",
       "    </tr>\n",
       "    <tr>\n",
       "      <th>c</th>\n",
       "      <td>-0.032368</td>\n",
       "      <td>2.671944</td>\n",
       "    </tr>\n",
       "    <tr>\n",
       "      <th>d</th>\n",
       "      <td>0.713493</td>\n",
       "      <td>-0.627699</td>\n",
       "    </tr>\n",
       "    <tr>\n",
       "      <th>e</th>\n",
       "      <td>0.306082</td>\n",
       "      <td>-0.904872</td>\n",
       "    </tr>\n",
       "  </tbody>\n",
       "</table>\n",
       "</div>"
      ],
      "text/plain": [
       "          0         1\n",
       "a -1.242096  0.955912\n",
       "b -0.741920  0.166238\n",
       "c -0.032368  2.671944\n",
       "d  0.713493 -0.627699\n",
       "e  0.306082 -0.904872"
      ]
     },
     "execution_count": 16,
     "metadata": {},
     "output_type": "execute_result"
    }
   ],
   "source": [
    "df"
   ]
  },
  {
   "cell_type": "code",
   "execution_count": 17,
   "id": "f4dfe86c-8e57-41d4-ad15-a2ffed6ae883",
   "metadata": {
    "tags": []
   },
   "outputs": [],
   "source": [
    "df=pd.concat([s1,s2],axis=1).reset_index()"
   ]
  },
  {
   "cell_type": "code",
   "execution_count": 18,
   "id": "f7d53a44-e420-45c8-987f-23d3c15abd1c",
   "metadata": {
    "tags": []
   },
   "outputs": [
    {
     "data": {
      "text/html": [
       "<div>\n",
       "<style scoped>\n",
       "    .dataframe tbody tr th:only-of-type {\n",
       "        vertical-align: middle;\n",
       "    }\n",
       "\n",
       "    .dataframe tbody tr th {\n",
       "        vertical-align: top;\n",
       "    }\n",
       "\n",
       "    .dataframe thead th {\n",
       "        text-align: right;\n",
       "    }\n",
       "</style>\n",
       "<table border=\"1\" class=\"dataframe\">\n",
       "  <thead>\n",
       "    <tr style=\"text-align: right;\">\n",
       "      <th></th>\n",
       "      <th>index</th>\n",
       "      <th>0</th>\n",
       "      <th>1</th>\n",
       "    </tr>\n",
       "  </thead>\n",
       "  <tbody>\n",
       "    <tr>\n",
       "      <th>0</th>\n",
       "      <td>a</td>\n",
       "      <td>-1.242096</td>\n",
       "      <td>0.955912</td>\n",
       "    </tr>\n",
       "    <tr>\n",
       "      <th>1</th>\n",
       "      <td>b</td>\n",
       "      <td>-0.741920</td>\n",
       "      <td>0.166238</td>\n",
       "    </tr>\n",
       "    <tr>\n",
       "      <th>2</th>\n",
       "      <td>c</td>\n",
       "      <td>-0.032368</td>\n",
       "      <td>2.671944</td>\n",
       "    </tr>\n",
       "    <tr>\n",
       "      <th>3</th>\n",
       "      <td>d</td>\n",
       "      <td>0.713493</td>\n",
       "      <td>-0.627699</td>\n",
       "    </tr>\n",
       "    <tr>\n",
       "      <th>4</th>\n",
       "      <td>e</td>\n",
       "      <td>0.306082</td>\n",
       "      <td>-0.904872</td>\n",
       "    </tr>\n",
       "  </tbody>\n",
       "</table>\n",
       "</div>"
      ],
      "text/plain": [
       "  index         0         1\n",
       "0     a -1.242096  0.955912\n",
       "1     b -0.741920  0.166238\n",
       "2     c -0.032368  2.671944\n",
       "3     d  0.713493 -0.627699\n",
       "4     e  0.306082 -0.904872"
      ]
     },
     "execution_count": 18,
     "metadata": {},
     "output_type": "execute_result"
    }
   ],
   "source": [
    "df"
   ]
  },
  {
   "cell_type": "code",
   "execution_count": 19,
   "id": "d971d4ab-76ba-4096-a6b6-0841d0f8a9e7",
   "metadata": {
    "tags": []
   },
   "outputs": [
    {
     "data": {
      "text/plain": [
       "-0.7419196641283379"
      ]
     },
     "execution_count": 19,
     "metadata": {},
     "output_type": "execute_result"
    }
   ],
   "source": [
    "df.iloc[1][0] #pure index location"
   ]
  },
  {
   "cell_type": "code",
   "execution_count": 21,
   "id": "8a7ccdca-04fd-4e5c-8b09-284059ff3a92",
   "metadata": {
    "tags": []
   },
   "outputs": [
    {
     "data": {
      "text/html": [
       "<div>\n",
       "<style scoped>\n",
       "    .dataframe tbody tr th:only-of-type {\n",
       "        vertical-align: middle;\n",
       "    }\n",
       "\n",
       "    .dataframe tbody tr th {\n",
       "        vertical-align: top;\n",
       "    }\n",
       "\n",
       "    .dataframe thead th {\n",
       "        text-align: right;\n",
       "    }\n",
       "</style>\n",
       "<table border=\"1\" class=\"dataframe\">\n",
       "  <thead>\n",
       "    <tr style=\"text-align: right;\">\n",
       "      <th></th>\n",
       "      <th>0</th>\n",
       "    </tr>\n",
       "  </thead>\n",
       "  <tbody>\n",
       "    <tr>\n",
       "      <th>a</th>\n",
       "      <td>0.955912</td>\n",
       "    </tr>\n",
       "    <tr>\n",
       "      <th>b</th>\n",
       "      <td>0.166238</td>\n",
       "    </tr>\n",
       "    <tr>\n",
       "      <th>c</th>\n",
       "      <td>2.671944</td>\n",
       "    </tr>\n",
       "    <tr>\n",
       "      <th>d</th>\n",
       "      <td>-0.627699</td>\n",
       "    </tr>\n",
       "    <tr>\n",
       "      <th>e</th>\n",
       "      <td>-0.904872</td>\n",
       "    </tr>\n",
       "  </tbody>\n",
       "</table>\n",
       "</div>"
      ],
      "text/plain": [
       "          0\n",
       "a  0.955912\n",
       "b  0.166238\n",
       "c  2.671944\n",
       "d -0.627699\n",
       "e -0.904872"
      ]
     },
     "execution_count": 21,
     "metadata": {},
     "output_type": "execute_result"
    }
   ],
   "source": [
    "s2.to_frame() #immediate dataframe"
   ]
  },
  {
   "cell_type": "code",
   "execution_count": 22,
   "id": "798cd334-2b01-44d8-847b-8221898eae26",
   "metadata": {
    "tags": []
   },
   "outputs": [
    {
     "data": {
      "text/html": [
       "<div>\n",
       "<style scoped>\n",
       "    .dataframe tbody tr th:only-of-type {\n",
       "        vertical-align: middle;\n",
       "    }\n",
       "\n",
       "    .dataframe tbody tr th {\n",
       "        vertical-align: top;\n",
       "    }\n",
       "\n",
       "    .dataframe thead th {\n",
       "        text-align: right;\n",
       "    }\n",
       "</style>\n",
       "<table border=\"1\" class=\"dataframe\">\n",
       "  <thead>\n",
       "    <tr style=\"text-align: right;\">\n",
       "      <th></th>\n",
       "      <th>index</th>\n",
       "      <th>0</th>\n",
       "      <th>1</th>\n",
       "    </tr>\n",
       "  </thead>\n",
       "  <tbody>\n",
       "    <tr>\n",
       "      <th>0</th>\n",
       "      <td>a</td>\n",
       "      <td>-0.486714</td>\n",
       "      <td>-0.415941</td>\n",
       "    </tr>\n",
       "    <tr>\n",
       "      <th>1</th>\n",
       "      <td>b</td>\n",
       "      <td>-1.692599</td>\n",
       "      <td>-0.681043</td>\n",
       "    </tr>\n",
       "    <tr>\n",
       "      <th>2</th>\n",
       "      <td>c</td>\n",
       "      <td>-1.060490</td>\n",
       "      <td>1.043297</td>\n",
       "    </tr>\n",
       "    <tr>\n",
       "      <th>3</th>\n",
       "      <td>d</td>\n",
       "      <td>0.783048</td>\n",
       "      <td>0.291553</td>\n",
       "    </tr>\n",
       "    <tr>\n",
       "      <th>4</th>\n",
       "      <td>e</td>\n",
       "      <td>-0.516755</td>\n",
       "      <td>0.597032</td>\n",
       "    </tr>\n",
       "  </tbody>\n",
       "</table>\n",
       "</div>"
      ],
      "text/plain": [
       "  index         0         1\n",
       "0     a -0.486714 -0.415941\n",
       "1     b -1.692599 -0.681043\n",
       "2     c -1.060490  1.043297\n",
       "3     d  0.783048  0.291553\n",
       "4     e -0.516755  0.597032"
      ]
     },
     "execution_count": 22,
     "metadata": {},
     "output_type": "execute_result"
    }
   ],
   "source": [
    "df"
   ]
  },
  {
   "cell_type": "code",
   "execution_count": 22,
   "id": "8d12bb76-e230-4efa-8169-e987c6984a30",
   "metadata": {
    "tags": []
   },
   "outputs": [],
   "source": [
    "my_df=pd.DataFrame(np.random.randn(25).reshape(5,5))"
   ]
  },
  {
   "cell_type": "code",
   "execution_count": 23,
   "id": "1aee2f79-94a1-4c49-ad1b-0b889271cbc5",
   "metadata": {
    "tags": []
   },
   "outputs": [
    {
     "data": {
      "text/html": [
       "<div>\n",
       "<style scoped>\n",
       "    .dataframe tbody tr th:only-of-type {\n",
       "        vertical-align: middle;\n",
       "    }\n",
       "\n",
       "    .dataframe tbody tr th {\n",
       "        vertical-align: top;\n",
       "    }\n",
       "\n",
       "    .dataframe thead th {\n",
       "        text-align: right;\n",
       "    }\n",
       "</style>\n",
       "<table border=\"1\" class=\"dataframe\">\n",
       "  <thead>\n",
       "    <tr style=\"text-align: right;\">\n",
       "      <th></th>\n",
       "      <th>0</th>\n",
       "      <th>1</th>\n",
       "      <th>2</th>\n",
       "      <th>3</th>\n",
       "      <th>4</th>\n",
       "    </tr>\n",
       "  </thead>\n",
       "  <tbody>\n",
       "    <tr>\n",
       "      <th>0</th>\n",
       "      <td>-0.888030</td>\n",
       "      <td>0.326813</td>\n",
       "      <td>0.535826</td>\n",
       "      <td>-1.554591</td>\n",
       "      <td>-1.744778</td>\n",
       "    </tr>\n",
       "    <tr>\n",
       "      <th>1</th>\n",
       "      <td>0.513547</td>\n",
       "      <td>-1.085612</td>\n",
       "      <td>1.845412</td>\n",
       "      <td>-1.597264</td>\n",
       "      <td>-0.045796</td>\n",
       "    </tr>\n",
       "    <tr>\n",
       "      <th>2</th>\n",
       "      <td>-0.360488</td>\n",
       "      <td>0.467669</td>\n",
       "      <td>-1.913058</td>\n",
       "      <td>1.185494</td>\n",
       "      <td>-0.685010</td>\n",
       "    </tr>\n",
       "    <tr>\n",
       "      <th>3</th>\n",
       "      <td>0.958918</td>\n",
       "      <td>1.034925</td>\n",
       "      <td>-1.010001</td>\n",
       "      <td>-0.618976</td>\n",
       "      <td>-0.586939</td>\n",
       "    </tr>\n",
       "    <tr>\n",
       "      <th>4</th>\n",
       "      <td>0.459713</td>\n",
       "      <td>1.546045</td>\n",
       "      <td>-0.357135</td>\n",
       "      <td>-0.272562</td>\n",
       "      <td>0.828025</td>\n",
       "    </tr>\n",
       "  </tbody>\n",
       "</table>\n",
       "</div>"
      ],
      "text/plain": [
       "          0         1         2         3         4\n",
       "0 -0.888030  0.326813  0.535826 -1.554591 -1.744778\n",
       "1  0.513547 -1.085612  1.845412 -1.597264 -0.045796\n",
       "2 -0.360488  0.467669 -1.913058  1.185494 -0.685010\n",
       "3  0.958918  1.034925 -1.010001 -0.618976 -0.586939\n",
       "4  0.459713  1.546045 -0.357135 -0.272562  0.828025"
      ]
     },
     "execution_count": 23,
     "metadata": {},
     "output_type": "execute_result"
    }
   ],
   "source": [
    "my_df"
   ]
  },
  {
   "cell_type": "code",
   "execution_count": 31,
   "id": "913b3c45-9a81-4b4e-8c02-16a4f4da17b6",
   "metadata": {
    "tags": []
   },
   "outputs": [],
   "source": [
    "my_df=pd.DataFrame(np.random.randn(25).reshape((5,5)),index=['a','b','c','d','e'])"
   ]
  },
  {
   "cell_type": "code",
   "execution_count": 32,
   "id": "7976593b-ea94-4f62-8d92-c72ecfcab27d",
   "metadata": {
    "tags": []
   },
   "outputs": [
    {
     "data": {
      "text/html": [
       "<div>\n",
       "<style scoped>\n",
       "    .dataframe tbody tr th:only-of-type {\n",
       "        vertical-align: middle;\n",
       "    }\n",
       "\n",
       "    .dataframe tbody tr th {\n",
       "        vertical-align: top;\n",
       "    }\n",
       "\n",
       "    .dataframe thead th {\n",
       "        text-align: right;\n",
       "    }\n",
       "</style>\n",
       "<table border=\"1\" class=\"dataframe\">\n",
       "  <thead>\n",
       "    <tr style=\"text-align: right;\">\n",
       "      <th></th>\n",
       "      <th>0</th>\n",
       "      <th>1</th>\n",
       "      <th>2</th>\n",
       "      <th>3</th>\n",
       "      <th>4</th>\n",
       "    </tr>\n",
       "  </thead>\n",
       "  <tbody>\n",
       "    <tr>\n",
       "      <th>a</th>\n",
       "      <td>-0.837214</td>\n",
       "      <td>-0.015993</td>\n",
       "      <td>0.950371</td>\n",
       "      <td>0.904262</td>\n",
       "      <td>0.304419</td>\n",
       "    </tr>\n",
       "    <tr>\n",
       "      <th>b</th>\n",
       "      <td>0.863078</td>\n",
       "      <td>-0.814376</td>\n",
       "      <td>-0.031401</td>\n",
       "      <td>-1.504424</td>\n",
       "      <td>1.024726</td>\n",
       "    </tr>\n",
       "    <tr>\n",
       "      <th>c</th>\n",
       "      <td>-1.460983</td>\n",
       "      <td>-0.039522</td>\n",
       "      <td>0.332278</td>\n",
       "      <td>0.508654</td>\n",
       "      <td>-0.616790</td>\n",
       "    </tr>\n",
       "    <tr>\n",
       "      <th>d</th>\n",
       "      <td>-0.466278</td>\n",
       "      <td>-0.553765</td>\n",
       "      <td>-0.252195</td>\n",
       "      <td>-1.294206</td>\n",
       "      <td>-1.717141</td>\n",
       "    </tr>\n",
       "    <tr>\n",
       "      <th>e</th>\n",
       "      <td>-1.523698</td>\n",
       "      <td>0.665968</td>\n",
       "      <td>-0.042824</td>\n",
       "      <td>-0.783955</td>\n",
       "      <td>1.976633</td>\n",
       "    </tr>\n",
       "  </tbody>\n",
       "</table>\n",
       "</div>"
      ],
      "text/plain": [
       "          0         1         2         3         4\n",
       "a -0.837214 -0.015993  0.950371  0.904262  0.304419\n",
       "b  0.863078 -0.814376 -0.031401 -1.504424  1.024726\n",
       "c -1.460983 -0.039522  0.332278  0.508654 -0.616790\n",
       "d -0.466278 -0.553765 -0.252195 -1.294206 -1.717141\n",
       "e -1.523698  0.665968 -0.042824 -0.783955  1.976633"
      ]
     },
     "execution_count": 32,
     "metadata": {},
     "output_type": "execute_result"
    }
   ],
   "source": [
    "my_df"
   ]
  },
  {
   "cell_type": "code",
   "execution_count": 33,
   "id": "00057e1a-1b9b-4e40-93cf-c382f41b9466",
   "metadata": {
    "tags": []
   },
   "outputs": [],
   "source": [
    "my_df=pd.DataFrame(np.random.randn(25).reshape((5,5)),index=['a','b','c','d','e'],columns=['c1','c2','c3','c4','c5'])"
   ]
  },
  {
   "cell_type": "code",
   "execution_count": 34,
   "id": "c6c7f1e1-d1c0-484f-aaff-9756d8d9e0e1",
   "metadata": {
    "tags": []
   },
   "outputs": [
    {
     "data": {
      "text/html": [
       "<div>\n",
       "<style scoped>\n",
       "    .dataframe tbody tr th:only-of-type {\n",
       "        vertical-align: middle;\n",
       "    }\n",
       "\n",
       "    .dataframe tbody tr th {\n",
       "        vertical-align: top;\n",
       "    }\n",
       "\n",
       "    .dataframe thead th {\n",
       "        text-align: right;\n",
       "    }\n",
       "</style>\n",
       "<table border=\"1\" class=\"dataframe\">\n",
       "  <thead>\n",
       "    <tr style=\"text-align: right;\">\n",
       "      <th></th>\n",
       "      <th>c1</th>\n",
       "      <th>c2</th>\n",
       "      <th>c3</th>\n",
       "      <th>c4</th>\n",
       "      <th>c5</th>\n",
       "    </tr>\n",
       "  </thead>\n",
       "  <tbody>\n",
       "    <tr>\n",
       "      <th>a</th>\n",
       "      <td>-0.454438</td>\n",
       "      <td>-1.434252</td>\n",
       "      <td>-0.873353</td>\n",
       "      <td>-1.258191</td>\n",
       "      <td>-0.605170</td>\n",
       "    </tr>\n",
       "    <tr>\n",
       "      <th>b</th>\n",
       "      <td>0.082940</td>\n",
       "      <td>0.312646</td>\n",
       "      <td>-0.741075</td>\n",
       "      <td>-0.469056</td>\n",
       "      <td>0.660447</td>\n",
       "    </tr>\n",
       "    <tr>\n",
       "      <th>c</th>\n",
       "      <td>0.020370</td>\n",
       "      <td>-0.276490</td>\n",
       "      <td>1.775086</td>\n",
       "      <td>-0.092939</td>\n",
       "      <td>0.525702</td>\n",
       "    </tr>\n",
       "    <tr>\n",
       "      <th>d</th>\n",
       "      <td>0.365961</td>\n",
       "      <td>-0.322772</td>\n",
       "      <td>-0.055033</td>\n",
       "      <td>0.319792</td>\n",
       "      <td>-0.357296</td>\n",
       "    </tr>\n",
       "    <tr>\n",
       "      <th>e</th>\n",
       "      <td>-0.094578</td>\n",
       "      <td>-0.564829</td>\n",
       "      <td>-0.264429</td>\n",
       "      <td>-0.018708</td>\n",
       "      <td>-0.968789</td>\n",
       "    </tr>\n",
       "  </tbody>\n",
       "</table>\n",
       "</div>"
      ],
      "text/plain": [
       "         c1        c2        c3        c4        c5\n",
       "a -0.454438 -1.434252 -0.873353 -1.258191 -0.605170\n",
       "b  0.082940  0.312646 -0.741075 -0.469056  0.660447\n",
       "c  0.020370 -0.276490  1.775086 -0.092939  0.525702\n",
       "d  0.365961 -0.322772 -0.055033  0.319792 -0.357296\n",
       "e -0.094578 -0.564829 -0.264429 -0.018708 -0.968789"
      ]
     },
     "execution_count": 34,
     "metadata": {},
     "output_type": "execute_result"
    }
   ],
   "source": [
    "my_df"
   ]
  },
  {
   "cell_type": "code",
   "execution_count": 35,
   "id": "54c62e58-9de9-4a0a-a12b-14c6b8b20d5a",
   "metadata": {
    "tags": []
   },
   "outputs": [
    {
     "data": {
      "text/html": [
       "<div>\n",
       "<style scoped>\n",
       "    .dataframe tbody tr th:only-of-type {\n",
       "        vertical-align: middle;\n",
       "    }\n",
       "\n",
       "    .dataframe tbody tr th {\n",
       "        vertical-align: top;\n",
       "    }\n",
       "\n",
       "    .dataframe thead th {\n",
       "        text-align: right;\n",
       "    }\n",
       "</style>\n",
       "<table border=\"1\" class=\"dataframe\">\n",
       "  <thead>\n",
       "    <tr style=\"text-align: right;\">\n",
       "      <th></th>\n",
       "      <th>c1</th>\n",
       "      <th>c2</th>\n",
       "      <th>c3</th>\n",
       "      <th>c4</th>\n",
       "      <th>c5</th>\n",
       "    </tr>\n",
       "  </thead>\n",
       "  <tbody>\n",
       "    <tr>\n",
       "      <th>a</th>\n",
       "      <td>-0.454438</td>\n",
       "      <td>-1.434252</td>\n",
       "      <td>-0.873353</td>\n",
       "      <td>-1.258191</td>\n",
       "      <td>-0.605170</td>\n",
       "    </tr>\n",
       "    <tr>\n",
       "      <th>c</th>\n",
       "      <td>0.020370</td>\n",
       "      <td>-0.276490</td>\n",
       "      <td>1.775086</td>\n",
       "      <td>-0.092939</td>\n",
       "      <td>0.525702</td>\n",
       "    </tr>\n",
       "    <tr>\n",
       "      <th>d</th>\n",
       "      <td>0.365961</td>\n",
       "      <td>-0.322772</td>\n",
       "      <td>-0.055033</td>\n",
       "      <td>0.319792</td>\n",
       "      <td>-0.357296</td>\n",
       "    </tr>\n",
       "    <tr>\n",
       "      <th>e</th>\n",
       "      <td>-0.094578</td>\n",
       "      <td>-0.564829</td>\n",
       "      <td>-0.264429</td>\n",
       "      <td>-0.018708</td>\n",
       "      <td>-0.968789</td>\n",
       "    </tr>\n",
       "  </tbody>\n",
       "</table>\n",
       "</div>"
      ],
      "text/plain": [
       "         c1        c2        c3        c4        c5\n",
       "a -0.454438 -1.434252 -0.873353 -1.258191 -0.605170\n",
       "c  0.020370 -0.276490  1.775086 -0.092939  0.525702\n",
       "d  0.365961 -0.322772 -0.055033  0.319792 -0.357296\n",
       "e -0.094578 -0.564829 -0.264429 -0.018708 -0.968789"
      ]
     },
     "execution_count": 35,
     "metadata": {},
     "output_type": "execute_result"
    }
   ],
   "source": [
    "my_df.drop('b')"
   ]
  },
  {
   "cell_type": "code",
   "execution_count": 36,
   "id": "86133cdf-38cd-4dd8-b897-03d9eea34017",
   "metadata": {
    "tags": []
   },
   "outputs": [
    {
     "data": {
      "text/html": [
       "<div>\n",
       "<style scoped>\n",
       "    .dataframe tbody tr th:only-of-type {\n",
       "        vertical-align: middle;\n",
       "    }\n",
       "\n",
       "    .dataframe tbody tr th {\n",
       "        vertical-align: top;\n",
       "    }\n",
       "\n",
       "    .dataframe thead th {\n",
       "        text-align: right;\n",
       "    }\n",
       "</style>\n",
       "<table border=\"1\" class=\"dataframe\">\n",
       "  <thead>\n",
       "    <tr style=\"text-align: right;\">\n",
       "      <th></th>\n",
       "      <th>c1</th>\n",
       "      <th>c3</th>\n",
       "      <th>c4</th>\n",
       "      <th>c5</th>\n",
       "    </tr>\n",
       "  </thead>\n",
       "  <tbody>\n",
       "    <tr>\n",
       "      <th>a</th>\n",
       "      <td>-0.454438</td>\n",
       "      <td>-0.873353</td>\n",
       "      <td>-1.258191</td>\n",
       "      <td>-0.605170</td>\n",
       "    </tr>\n",
       "    <tr>\n",
       "      <th>b</th>\n",
       "      <td>0.082940</td>\n",
       "      <td>-0.741075</td>\n",
       "      <td>-0.469056</td>\n",
       "      <td>0.660447</td>\n",
       "    </tr>\n",
       "    <tr>\n",
       "      <th>c</th>\n",
       "      <td>0.020370</td>\n",
       "      <td>1.775086</td>\n",
       "      <td>-0.092939</td>\n",
       "      <td>0.525702</td>\n",
       "    </tr>\n",
       "    <tr>\n",
       "      <th>d</th>\n",
       "      <td>0.365961</td>\n",
       "      <td>-0.055033</td>\n",
       "      <td>0.319792</td>\n",
       "      <td>-0.357296</td>\n",
       "    </tr>\n",
       "    <tr>\n",
       "      <th>e</th>\n",
       "      <td>-0.094578</td>\n",
       "      <td>-0.264429</td>\n",
       "      <td>-0.018708</td>\n",
       "      <td>-0.968789</td>\n",
       "    </tr>\n",
       "  </tbody>\n",
       "</table>\n",
       "</div>"
      ],
      "text/plain": [
       "         c1        c3        c4        c5\n",
       "a -0.454438 -0.873353 -1.258191 -0.605170\n",
       "b  0.082940 -0.741075 -0.469056  0.660447\n",
       "c  0.020370  1.775086 -0.092939  0.525702\n",
       "d  0.365961 -0.055033  0.319792 -0.357296\n",
       "e -0.094578 -0.264429 -0.018708 -0.968789"
      ]
     },
     "execution_count": 36,
     "metadata": {},
     "output_type": "execute_result"
    }
   ],
   "source": [
    "my_df.drop('c2',axis=1)"
   ]
  },
  {
   "cell_type": "code",
   "execution_count": 37,
   "id": "06d274ee-49e0-471e-9719-4f9225a9d0cd",
   "metadata": {
    "tags": []
   },
   "outputs": [],
   "source": [
    "my_df.drop('c2',axis=1,inplace=True)"
   ]
  },
  {
   "cell_type": "code",
   "execution_count": 38,
   "id": "5a244636-1b3a-4e4f-b3ca-28ab0b066d24",
   "metadata": {
    "tags": []
   },
   "outputs": [
    {
     "data": {
      "text/html": [
       "<div>\n",
       "<style scoped>\n",
       "    .dataframe tbody tr th:only-of-type {\n",
       "        vertical-align: middle;\n",
       "    }\n",
       "\n",
       "    .dataframe tbody tr th {\n",
       "        vertical-align: top;\n",
       "    }\n",
       "\n",
       "    .dataframe thead th {\n",
       "        text-align: right;\n",
       "    }\n",
       "</style>\n",
       "<table border=\"1\" class=\"dataframe\">\n",
       "  <thead>\n",
       "    <tr style=\"text-align: right;\">\n",
       "      <th></th>\n",
       "      <th>c1</th>\n",
       "      <th>c3</th>\n",
       "      <th>c4</th>\n",
       "      <th>c5</th>\n",
       "    </tr>\n",
       "  </thead>\n",
       "  <tbody>\n",
       "    <tr>\n",
       "      <th>a</th>\n",
       "      <td>-0.454438</td>\n",
       "      <td>-0.873353</td>\n",
       "      <td>-1.258191</td>\n",
       "      <td>-0.605170</td>\n",
       "    </tr>\n",
       "    <tr>\n",
       "      <th>b</th>\n",
       "      <td>0.082940</td>\n",
       "      <td>-0.741075</td>\n",
       "      <td>-0.469056</td>\n",
       "      <td>0.660447</td>\n",
       "    </tr>\n",
       "    <tr>\n",
       "      <th>c</th>\n",
       "      <td>0.020370</td>\n",
       "      <td>1.775086</td>\n",
       "      <td>-0.092939</td>\n",
       "      <td>0.525702</td>\n",
       "    </tr>\n",
       "    <tr>\n",
       "      <th>d</th>\n",
       "      <td>0.365961</td>\n",
       "      <td>-0.055033</td>\n",
       "      <td>0.319792</td>\n",
       "      <td>-0.357296</td>\n",
       "    </tr>\n",
       "    <tr>\n",
       "      <th>e</th>\n",
       "      <td>-0.094578</td>\n",
       "      <td>-0.264429</td>\n",
       "      <td>-0.018708</td>\n",
       "      <td>-0.968789</td>\n",
       "    </tr>\n",
       "  </tbody>\n",
       "</table>\n",
       "</div>"
      ],
      "text/plain": [
       "         c1        c3        c4        c5\n",
       "a -0.454438 -0.873353 -1.258191 -0.605170\n",
       "b  0.082940 -0.741075 -0.469056  0.660447\n",
       "c  0.020370  1.775086 -0.092939  0.525702\n",
       "d  0.365961 -0.055033  0.319792 -0.357296\n",
       "e -0.094578 -0.264429 -0.018708 -0.968789"
      ]
     },
     "execution_count": 38,
     "metadata": {},
     "output_type": "execute_result"
    }
   ],
   "source": [
    "my_df"
   ]
  },
  {
   "cell_type": "code",
   "execution_count": 39,
   "id": "0c29eb28-bf0e-454f-b917-be40871dad5b",
   "metadata": {
    "tags": []
   },
   "outputs": [
    {
     "data": {
      "text/html": [
       "<div>\n",
       "<style scoped>\n",
       "    .dataframe tbody tr th:only-of-type {\n",
       "        vertical-align: middle;\n",
       "    }\n",
       "\n",
       "    .dataframe tbody tr th {\n",
       "        vertical-align: top;\n",
       "    }\n",
       "\n",
       "    .dataframe thead th {\n",
       "        text-align: right;\n",
       "    }\n",
       "</style>\n",
       "<table border=\"1\" class=\"dataframe\">\n",
       "  <thead>\n",
       "    <tr style=\"text-align: right;\">\n",
       "      <th></th>\n",
       "      <th>c1</th>\n",
       "      <th>c3</th>\n",
       "      <th>c4</th>\n",
       "      <th>c5</th>\n",
       "    </tr>\n",
       "  </thead>\n",
       "  <tbody>\n",
       "    <tr>\n",
       "      <th>count</th>\n",
       "      <td>5.000000</td>\n",
       "      <td>5.000000</td>\n",
       "      <td>5.000000</td>\n",
       "      <td>5.000000</td>\n",
       "    </tr>\n",
       "    <tr>\n",
       "      <th>mean</th>\n",
       "      <td>-0.015949</td>\n",
       "      <td>-0.031761</td>\n",
       "      <td>-0.303820</td>\n",
       "      <td>-0.149021</td>\n",
       "    </tr>\n",
       "    <tr>\n",
       "      <th>std</th>\n",
       "      <td>0.298081</td>\n",
       "      <td>1.064281</td>\n",
       "      <td>0.602656</td>\n",
       "      <td>0.713085</td>\n",
       "    </tr>\n",
       "    <tr>\n",
       "      <th>min</th>\n",
       "      <td>-0.454438</td>\n",
       "      <td>-0.873353</td>\n",
       "      <td>-1.258191</td>\n",
       "      <td>-0.968789</td>\n",
       "    </tr>\n",
       "    <tr>\n",
       "      <th>25%</th>\n",
       "      <td>-0.094578</td>\n",
       "      <td>-0.741075</td>\n",
       "      <td>-0.469056</td>\n",
       "      <td>-0.605170</td>\n",
       "    </tr>\n",
       "    <tr>\n",
       "      <th>50%</th>\n",
       "      <td>0.020370</td>\n",
       "      <td>-0.264429</td>\n",
       "      <td>-0.092939</td>\n",
       "      <td>-0.357296</td>\n",
       "    </tr>\n",
       "    <tr>\n",
       "      <th>75%</th>\n",
       "      <td>0.082940</td>\n",
       "      <td>-0.055033</td>\n",
       "      <td>-0.018708</td>\n",
       "      <td>0.525702</td>\n",
       "    </tr>\n",
       "    <tr>\n",
       "      <th>max</th>\n",
       "      <td>0.365961</td>\n",
       "      <td>1.775086</td>\n",
       "      <td>0.319792</td>\n",
       "      <td>0.660447</td>\n",
       "    </tr>\n",
       "  </tbody>\n",
       "</table>\n",
       "</div>"
      ],
      "text/plain": [
       "             c1        c3        c4        c5\n",
       "count  5.000000  5.000000  5.000000  5.000000\n",
       "mean  -0.015949 -0.031761 -0.303820 -0.149021\n",
       "std    0.298081  1.064281  0.602656  0.713085\n",
       "min   -0.454438 -0.873353 -1.258191 -0.968789\n",
       "25%   -0.094578 -0.741075 -0.469056 -0.605170\n",
       "50%    0.020370 -0.264429 -0.092939 -0.357296\n",
       "75%    0.082940 -0.055033 -0.018708  0.525702\n",
       "max    0.365961  1.775086  0.319792  0.660447"
      ]
     },
     "execution_count": 39,
     "metadata": {},
     "output_type": "execute_result"
    }
   ],
   "source": [
    "my_df.describe()"
   ]
  },
  {
   "cell_type": "code",
   "execution_count": 40,
   "id": "0968d80f-2391-46a9-8d0c-fde37ad1446f",
   "metadata": {
    "tags": []
   },
   "outputs": [
    {
     "data": {
      "text/html": [
       "<div>\n",
       "<style scoped>\n",
       "    .dataframe tbody tr th:only-of-type {\n",
       "        vertical-align: middle;\n",
       "    }\n",
       "\n",
       "    .dataframe tbody tr th {\n",
       "        vertical-align: top;\n",
       "    }\n",
       "\n",
       "    .dataframe thead th {\n",
       "        text-align: right;\n",
       "    }\n",
       "</style>\n",
       "<table border=\"1\" class=\"dataframe\">\n",
       "  <thead>\n",
       "    <tr style=\"text-align: right;\">\n",
       "      <th></th>\n",
       "      <th>a</th>\n",
       "      <th>b</th>\n",
       "      <th>c</th>\n",
       "      <th>d</th>\n",
       "      <th>e</th>\n",
       "    </tr>\n",
       "  </thead>\n",
       "  <tbody>\n",
       "    <tr>\n",
       "      <th>count</th>\n",
       "      <td>4.000000</td>\n",
       "      <td>4.000000</td>\n",
       "      <td>4.000000</td>\n",
       "      <td>4.000000</td>\n",
       "      <td>4.000000</td>\n",
       "    </tr>\n",
       "    <tr>\n",
       "      <th>mean</th>\n",
       "      <td>-0.797788</td>\n",
       "      <td>-0.116686</td>\n",
       "      <td>0.557055</td>\n",
       "      <td>0.068356</td>\n",
       "      <td>-0.336626</td>\n",
       "    </tr>\n",
       "    <tr>\n",
       "      <th>std</th>\n",
       "      <td>0.352454</td>\n",
       "      <td>0.621239</td>\n",
       "      <td>0.855396</td>\n",
       "      <td>0.340682</td>\n",
       "      <td>0.433783</td>\n",
       "    </tr>\n",
       "    <tr>\n",
       "      <th>min</th>\n",
       "      <td>-1.258191</td>\n",
       "      <td>-0.741075</td>\n",
       "      <td>-0.092939</td>\n",
       "      <td>-0.357296</td>\n",
       "      <td>-0.968789</td>\n",
       "    </tr>\n",
       "    <tr>\n",
       "      <th>25%</th>\n",
       "      <td>-0.969562</td>\n",
       "      <td>-0.537061</td>\n",
       "      <td>-0.007957</td>\n",
       "      <td>-0.130599</td>\n",
       "      <td>-0.440519</td>\n",
       "    </tr>\n",
       "    <tr>\n",
       "      <th>50%</th>\n",
       "      <td>-0.739262</td>\n",
       "      <td>-0.193058</td>\n",
       "      <td>0.273036</td>\n",
       "      <td>0.132380</td>\n",
       "      <td>-0.179503</td>\n",
       "    </tr>\n",
       "    <tr>\n",
       "      <th>75%</th>\n",
       "      <td>-0.567487</td>\n",
       "      <td>0.227317</td>\n",
       "      <td>0.838048</td>\n",
       "      <td>0.331335</td>\n",
       "      <td>-0.075611</td>\n",
       "    </tr>\n",
       "    <tr>\n",
       "      <th>max</th>\n",
       "      <td>-0.454438</td>\n",
       "      <td>0.660447</td>\n",
       "      <td>1.775086</td>\n",
       "      <td>0.365961</td>\n",
       "      <td>-0.018708</td>\n",
       "    </tr>\n",
       "  </tbody>\n",
       "</table>\n",
       "</div>"
      ],
      "text/plain": [
       "              a         b         c         d         e\n",
       "count  4.000000  4.000000  4.000000  4.000000  4.000000\n",
       "mean  -0.797788 -0.116686  0.557055  0.068356 -0.336626\n",
       "std    0.352454  0.621239  0.855396  0.340682  0.433783\n",
       "min   -1.258191 -0.741075 -0.092939 -0.357296 -0.968789\n",
       "25%   -0.969562 -0.537061 -0.007957 -0.130599 -0.440519\n",
       "50%   -0.739262 -0.193058  0.273036  0.132380 -0.179503\n",
       "75%   -0.567487  0.227317  0.838048  0.331335 -0.075611\n",
       "max   -0.454438  0.660447  1.775086  0.365961 -0.018708"
      ]
     },
     "execution_count": 40,
     "metadata": {},
     "output_type": "execute_result"
    }
   ],
   "source": [
    "my_df.transpose().describe()"
   ]
  },
  {
   "cell_type": "code",
   "execution_count": 41,
   "id": "cad1533d-23e1-4b90-b04f-8b26abba7e0b",
   "metadata": {
    "tags": []
   },
   "outputs": [
    {
     "data": {
      "text/plain": [
       "c1   -0.079745\n",
       "c3   -0.158803\n",
       "c4   -1.519101\n",
       "c5   -0.745106\n",
       "dtype: float64"
      ]
     },
     "execution_count": 41,
     "metadata": {},
     "output_type": "execute_result"
    }
   ],
   "source": [
    "my_df.sum()"
   ]
  },
  {
   "cell_type": "code",
   "execution_count": 42,
   "id": "fbf48458-1f9d-482f-8a2b-b3f1a1000d93",
   "metadata": {
    "tags": []
   },
   "outputs": [
    {
     "data": {
      "text/html": [
       "<div>\n",
       "<style scoped>\n",
       "    .dataframe tbody tr th:only-of-type {\n",
       "        vertical-align: middle;\n",
       "    }\n",
       "\n",
       "    .dataframe tbody tr th {\n",
       "        vertical-align: top;\n",
       "    }\n",
       "\n",
       "    .dataframe thead th {\n",
       "        text-align: right;\n",
       "    }\n",
       "</style>\n",
       "<table border=\"1\" class=\"dataframe\">\n",
       "  <thead>\n",
       "    <tr style=\"text-align: right;\">\n",
       "      <th></th>\n",
       "      <th>c1</th>\n",
       "      <th>c3</th>\n",
       "      <th>c4</th>\n",
       "      <th>c5</th>\n",
       "    </tr>\n",
       "  </thead>\n",
       "  <tbody>\n",
       "    <tr>\n",
       "      <th>a</th>\n",
       "      <td>-0.454438</td>\n",
       "      <td>-0.873353</td>\n",
       "      <td>-1.258191</td>\n",
       "      <td>-0.605170</td>\n",
       "    </tr>\n",
       "    <tr>\n",
       "      <th>b</th>\n",
       "      <td>-0.371498</td>\n",
       "      <td>-1.614428</td>\n",
       "      <td>-1.727246</td>\n",
       "      <td>0.055277</td>\n",
       "    </tr>\n",
       "    <tr>\n",
       "      <th>c</th>\n",
       "      <td>-0.351128</td>\n",
       "      <td>0.160658</td>\n",
       "      <td>-1.820185</td>\n",
       "      <td>0.580979</td>\n",
       "    </tr>\n",
       "    <tr>\n",
       "      <th>d</th>\n",
       "      <td>0.014833</td>\n",
       "      <td>0.105625</td>\n",
       "      <td>-1.500393</td>\n",
       "      <td>0.223683</td>\n",
       "    </tr>\n",
       "    <tr>\n",
       "      <th>e</th>\n",
       "      <td>-0.079745</td>\n",
       "      <td>-0.158803</td>\n",
       "      <td>-1.519101</td>\n",
       "      <td>-0.745106</td>\n",
       "    </tr>\n",
       "  </tbody>\n",
       "</table>\n",
       "</div>"
      ],
      "text/plain": [
       "         c1        c3        c4        c5\n",
       "a -0.454438 -0.873353 -1.258191 -0.605170\n",
       "b -0.371498 -1.614428 -1.727246  0.055277\n",
       "c -0.351128  0.160658 -1.820185  0.580979\n",
       "d  0.014833  0.105625 -1.500393  0.223683\n",
       "e -0.079745 -0.158803 -1.519101 -0.745106"
      ]
     },
     "execution_count": 42,
     "metadata": {},
     "output_type": "execute_result"
    }
   ],
   "source": [
    "my_df.cumsum()"
   ]
  },
  {
   "cell_type": "code",
   "execution_count": 43,
   "id": "6f1f4f2e-3ded-4a95-a22b-7157f132095f",
   "metadata": {
    "tags": []
   },
   "outputs": [
    {
     "data": {
      "text/html": [
       "<div>\n",
       "<style scoped>\n",
       "    .dataframe tbody tr th:only-of-type {\n",
       "        vertical-align: middle;\n",
       "    }\n",
       "\n",
       "    .dataframe tbody tr th {\n",
       "        vertical-align: top;\n",
       "    }\n",
       "\n",
       "    .dataframe thead th {\n",
       "        text-align: right;\n",
       "    }\n",
       "</style>\n",
       "<table border=\"1\" class=\"dataframe\">\n",
       "  <thead>\n",
       "    <tr style=\"text-align: right;\">\n",
       "      <th></th>\n",
       "      <th>c1</th>\n",
       "      <th>c3</th>\n",
       "      <th>c4</th>\n",
       "      <th>c5</th>\n",
       "    </tr>\n",
       "  </thead>\n",
       "  <tbody>\n",
       "    <tr>\n",
       "      <th>a</th>\n",
       "      <td>-0.454438</td>\n",
       "      <td>-0.873353</td>\n",
       "      <td>-1.258191</td>\n",
       "      <td>-0.605170</td>\n",
       "    </tr>\n",
       "    <tr>\n",
       "      <th>b</th>\n",
       "      <td>-0.371498</td>\n",
       "      <td>-1.614428</td>\n",
       "      <td>-1.727246</td>\n",
       "      <td>0.055277</td>\n",
       "    </tr>\n",
       "    <tr>\n",
       "      <th>c</th>\n",
       "      <td>-0.351128</td>\n",
       "      <td>0.160658</td>\n",
       "      <td>-1.820185</td>\n",
       "      <td>0.580979</td>\n",
       "    </tr>\n",
       "    <tr>\n",
       "      <th>d</th>\n",
       "      <td>0.014833</td>\n",
       "      <td>0.105625</td>\n",
       "      <td>-1.500393</td>\n",
       "      <td>0.223683</td>\n",
       "    </tr>\n",
       "    <tr>\n",
       "      <th>e</th>\n",
       "      <td>-0.079745</td>\n",
       "      <td>-0.158803</td>\n",
       "      <td>-1.519101</td>\n",
       "      <td>-0.745106</td>\n",
       "    </tr>\n",
       "  </tbody>\n",
       "</table>\n",
       "</div>"
      ],
      "text/plain": [
       "         c1        c3        c4        c5\n",
       "a -0.454438 -0.873353 -1.258191 -0.605170\n",
       "b -0.371498 -1.614428 -1.727246  0.055277\n",
       "c -0.351128  0.160658 -1.820185  0.580979\n",
       "d  0.014833  0.105625 -1.500393  0.223683\n",
       "e -0.079745 -0.158803 -1.519101 -0.745106"
      ]
     },
     "execution_count": 43,
     "metadata": {},
     "output_type": "execute_result"
    }
   ],
   "source": [
    "my_df.cumsum(axis=0)"
   ]
  },
  {
   "cell_type": "code",
   "execution_count": 44,
   "id": "c1823e94-79d5-461d-9033-da719707cce2",
   "metadata": {
    "tags": []
   },
   "outputs": [
    {
     "data": {
      "text/plain": [
       "a   -3.191151\n",
       "b   -0.466744\n",
       "c    2.228220\n",
       "d    0.273425\n",
       "e   -1.346504\n",
       "dtype: float64"
      ]
     },
     "execution_count": 44,
     "metadata": {},
     "output_type": "execute_result"
    }
   ],
   "source": [
    "my_df.sum(axis=1)"
   ]
  },
  {
   "cell_type": "code",
   "execution_count": 45,
   "id": "d474da67-1607-4fad-8967-2c373143613d",
   "metadata": {
    "tags": []
   },
   "outputs": [
    {
     "data": {
      "text/plain": [
       "a   -1.258191\n",
       "b   -0.741075\n",
       "c   -0.092939\n",
       "d   -0.357296\n",
       "e   -0.968789\n",
       "dtype: float64"
      ]
     },
     "execution_count": 45,
     "metadata": {},
     "output_type": "execute_result"
    }
   ],
   "source": [
    "my_df.min(axis=1)"
   ]
  },
  {
   "cell_type": "code",
   "execution_count": 46,
   "id": "f37acba7-8ae9-49cd-acd0-b8447660f08c",
   "metadata": {
    "tags": []
   },
   "outputs": [
    {
     "data": {
      "text/plain": [
       "c1    a\n",
       "c3    a\n",
       "c4    a\n",
       "c5    e\n",
       "dtype: object"
      ]
     },
     "execution_count": 46,
     "metadata": {},
     "output_type": "execute_result"
    }
   ],
   "source": [
    "my_df.idxmin()"
   ]
  },
  {
   "cell_type": "code",
   "execution_count": 47,
   "id": "a339c39b-c48d-492c-8e85-9b8e7465156b",
   "metadata": {
    "tags": []
   },
   "outputs": [
    {
     "data": {
      "text/plain": [
       "a    c4\n",
       "b    c3\n",
       "c    c4\n",
       "d    c5\n",
       "e    c5\n",
       "dtype: object"
      ]
     },
     "execution_count": 47,
     "metadata": {},
     "output_type": "execute_result"
    }
   ],
   "source": [
    "my_df.idxmin(axis=1)"
   ]
  },
  {
   "cell_type": "code",
   "execution_count": 48,
   "id": "7fc53377-033f-4b20-a31b-bcb0e7875e46",
   "metadata": {
    "tags": []
   },
   "outputs": [
    {
     "data": {
      "text/plain": [
       "<Axes: >"
      ]
     },
     "execution_count": 48,
     "metadata": {},
     "output_type": "execute_result"
    },
    {
     "data": {
      "image/png": "[encoded data removed]",
      "text/plain": [
       "<Figure size 640x480 with 1 Axes>"
      ]
     },
     "metadata": {},
     "output_type": "display_data"
    }
   ],
   "source": [
    "my_df.boxplot()"
   ]
  },
  {
   "cell_type": "code",
   "execution_count": null,
   "id": "9ae5d895-2a79-4f5e-a653-36c4e8938889",
   "metadata": {},
   "outputs": [],
   "source": []
  }
 ],
 "metadata": {
  "kernelspec": {
   "display_name": "Python 3 (ipykernel)",
   "language": "python",
   "name": "python3"
  },
  "language_info": {
   "codemirror_mode": {
    "name": "ipython",
    "version": 3
   },
   "file_extension": ".py",
   "mimetype": "text/x-python",
   "name": "python",
   "nbconvert_exporter": "python",
   "pygments_lexer": "ipython3",
   "version": "3.10.9"
  }
 },
 "nbformat": 4,
 "nbformat_minor": 5
}
