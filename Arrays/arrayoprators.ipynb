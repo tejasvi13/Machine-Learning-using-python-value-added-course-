{
 "cells": [
  {
   "cell_type": "code",
   "execution_count": 1,
   "id": "2285f0a2-dcda-41c5-9e47-f598513d6997",
   "metadata": {
    "tags": []
   },
   "outputs": [],
   "source": [
    "import numpy as np\n"
   ]
  },
  {
   "cell_type": "code",
   "execution_count": 2,
   "id": "f85e951c-5b19-44a9-a84a-639795129705",
   "metadata": {
    "tags": []
   },
   "outputs": [],
   "source": [
    "b=np.random.random((3,3))"
   ]
  },
  {
   "cell_type": "code",
   "execution_count": 3,
   "id": "7d28ff46-11f0-44ba-95a0-22a8e98dc12a",
   "metadata": {
    "tags": []
   },
   "outputs": [],
   "source": [
    "c=np.random.random((3,3))"
   ]
  },
  {
   "cell_type": "code",
   "execution_count": 4,
   "id": "09fba549-7a80-4015-a904-d96d2155662d",
   "metadata": {
    "tags": []
   },
   "outputs": [
    {
     "data": {
      "text/plain": [
       "array([[0.56633468, 0.7169759 , 0.34501008],\n",
       "       [0.70951646, 0.78266704, 0.61532046],\n",
       "       [0.1691829 , 0.86767484, 0.9861217 ]])"
      ]
     },
     "execution_count": 4,
     "metadata": {},
     "output_type": "execute_result"
    }
   ],
   "source": [
    "b"
   ]
  },
  {
   "cell_type": "code",
   "execution_count": 5,
   "id": "e3931c52-1186-4749-b5f2-28dbfeb06438",
   "metadata": {
    "tags": []
   },
   "outputs": [
    {
     "data": {
      "text/plain": [
       "array([[0.86084985, 0.75562608, 0.74892395],\n",
       "       [0.54169487, 0.70486216, 0.52322622],\n",
       "       [0.8294296 , 0.58046381, 0.42815708]])"
      ]
     },
     "execution_count": 5,
     "metadata": {},
     "output_type": "execute_result"
    }
   ],
   "source": [
    "c"
   ]
  },
  {
   "cell_type": "code",
   "execution_count": 6,
   "id": "e8b0780d-b906-4742-8523-e6a35d397121",
   "metadata": {
    "tags": []
   },
   "outputs": [
    {
     "data": {
      "text/plain": [
       "array([[1.42718453, 1.47260197, 1.09393403],\n",
       "       [1.25121133, 1.4875292 , 1.13854668],\n",
       "       [0.9986125 , 1.44813865, 1.41427878]])"
      ]
     },
     "execution_count": 6,
     "metadata": {},
     "output_type": "execute_result"
    }
   ],
   "source": [
    "b + c"
   ]
  },
  {
   "cell_type": "code",
   "execution_count": 7,
   "id": "ec5dbacb-01af-4c6b-a5ce-0c243776a572",
   "metadata": {
    "tags": []
   },
   "outputs": [
    {
     "data": {
      "text/plain": [
       "array([[-0.29451517, -0.03865018, -0.40391388],\n",
       "       [ 0.1678216 ,  0.07780488,  0.09209424],\n",
       "       [-0.6602467 ,  0.28721103,  0.55796462]])"
      ]
     },
     "execution_count": 7,
     "metadata": {},
     "output_type": "execute_result"
    }
   ],
   "source": [
    "b -c"
   ]
  },
  {
   "cell_type": "code",
   "execution_count": 8,
   "id": "1227c281-91b1-4527-8ab3-4840c7537571",
   "metadata": {
    "tags": []
   },
   "outputs": [
    {
     "data": {
      "text/plain": [
       "array([[0.48752912, 0.54176568, 0.25838631],\n",
       "       [0.38434143, 0.55167238, 0.3219518 ],\n",
       "       [0.14032531, 0.50365384, 0.42221499]])"
      ]
     },
     "execution_count": 8,
     "metadata": {},
     "output_type": "execute_result"
    }
   ],
   "source": [
    "b*c"
   ]
  },
  {
   "cell_type": "code",
   "execution_count": 9,
   "id": "999af1ad-db64-4c70-b4ca-8fab2f41b64d",
   "metadata": {
    "tags": []
   },
   "outputs": [
    {
     "data": {
      "text/plain": [
       "array([[0.65787858, 0.94885013, 0.46067438],\n",
       "       [1.30980836, 1.11038311, 1.17601228],\n",
       "       [0.203975  , 1.49479576, 2.30317737]])"
      ]
     },
     "execution_count": 9,
     "metadata": {},
     "output_type": "execute_result"
    }
   ],
   "source": [
    "b/c"
   ]
  },
  {
   "cell_type": "code",
   "execution_count": 10,
   "id": "c95d3bf4-f0bb-4fec-9a2b-d20106fc69de",
   "metadata": {
    "tags": []
   },
   "outputs": [
    {
     "data": {
      "text/plain": [
       "array([[0.56633468, 0.7169759 , 0.34501008],\n",
       "       [0.1678216 , 0.07780488, 0.09209424],\n",
       "       [0.1691829 , 0.28721103, 0.12980754]])"
      ]
     },
     "execution_count": 10,
     "metadata": {},
     "output_type": "execute_result"
    }
   ],
   "source": [
    "b%c"
   ]
  },
  {
   "cell_type": "code",
   "execution_count": 11,
   "id": "de32a07a-eb26-4120-9b4e-4353e20568d9",
   "metadata": {
    "tags": []
   },
   "outputs": [
    {
     "data": {
      "text/plain": [
       "array([[1.16164276, 1.32340589, 1.33524906],\n",
       "       [1.84605774, 1.41871709, 1.9112192 ],\n",
       "       [1.20564783, 1.72276029, 2.33559141]])"
      ]
     },
     "execution_count": 11,
     "metadata": {},
     "output_type": "execute_result"
    }
   ],
   "source": [
    "1/c"
   ]
  },
  {
   "cell_type": "code",
   "execution_count": 12,
   "id": "a7b6d8f1-c232-4bfd-be0b-d66cb061934e",
   "metadata": {
    "tags": []
   },
   "outputs": [
    {
     "data": {
      "text/plain": [
       "array([[ 3.53148073,  2.78949405,  5.79693215],\n",
       "       [ 2.81882113,  2.55536505,  3.25033885],\n",
       "       [11.82152541,  2.30501094,  2.02814724]])"
      ]
     },
     "execution_count": 12,
     "metadata": {},
     "output_type": "execute_result"
    }
   ],
   "source": [
    "2/b"
   ]
  },
  {
   "cell_type": "code",
   "execution_count": 13,
   "id": "3f12718d-1f89-4d21-b850-d1759bd1ffe2",
   "metadata": {
    "tags": []
   },
   "outputs": [],
   "source": [
    "b += c #b=b+c"
   ]
  },
  {
   "cell_type": "code",
   "execution_count": 14,
   "id": "27ff1012-ca49-4cab-a014-d33005c068b9",
   "metadata": {
    "tags": []
   },
   "outputs": [
    {
     "data": {
      "text/plain": [
       "array([[1.42718453, 1.47260197, 1.09393403],\n",
       "       [1.25121133, 1.4875292 , 1.13854668],\n",
       "       [0.9986125 , 1.44813865, 1.41427878]])"
      ]
     },
     "execution_count": 14,
     "metadata": {},
     "output_type": "execute_result"
    }
   ],
   "source": [
    "b"
   ]
  },
  {
   "cell_type": "code",
   "execution_count": 15,
   "id": "3b8e6de1-17d0-4059-85ca-d2ae55fe4ae2",
   "metadata": {
    "tags": []
   },
   "outputs": [
    {
     "data": {
      "text/plain": [
       "array([[2.03685568, 2.16855657, 1.19669166],\n",
       "       [1.56552979, 2.21274313, 1.29628855],\n",
       "       [0.99722693, 2.09710555, 2.00018447]])"
      ]
     },
     "execution_count": 15,
     "metadata": {},
     "output_type": "execute_result"
    }
   ],
   "source": [
    " b**2"
   ]
  },
  {
   "cell_type": "code",
   "execution_count": 16,
   "id": "1d4dba0d-a6e7-4e96-9743-420067aaca95",
   "metadata": {
    "tags": []
   },
   "outputs": [
    {
     "data": {
      "text/plain": [
       "0.2758617313096681"
      ]
     },
     "execution_count": 16,
     "metadata": {},
     "output_type": "execute_result"
    }
   ],
   "source": [
    "0.52522541 *0.52522541"
   ]
  },
  {
   "cell_type": "code",
   "execution_count": 17,
   "id": "a7b23701-880d-43b0-ad50-2666d515905b",
   "metadata": {},
   "outputs": [
    {
     "data": {
      "text/plain": [
       "2.1125656805635686"
      ]
     },
     "execution_count": 17,
     "metadata": {},
     "output_type": "execute_result"
    }
   ],
   "source": [
    "1.45346678 * 1.45346678"
   ]
  },
  {
   "cell_type": "code",
   "execution_count": null,
   "id": "c45194ce-dd1d-4fe8-b107-24234a6d6166",
   "metadata": {},
   "outputs": [],
   "source": []
  }
 ],
 "metadata": {
  "kernelspec": {
   "display_name": "Python 3 (ipykernel)",
   "language": "python",
   "name": "python3"
  },
  "language_info": {
   "codemirror_mode": {
    "name": "ipython",
    "version": 3
   },
   "file_extension": ".py",
   "mimetype": "text/x-python",
   "name": "python",
   "nbconvert_exporter": "python",
   "pygments_lexer": "ipython3",
   "version": "3.10.9"
  }
 },
 "nbformat": 4,
 "nbformat_minor": 5
}
