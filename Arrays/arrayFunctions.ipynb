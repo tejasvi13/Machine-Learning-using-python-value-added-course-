{
 "cells": [
  {
   "cell_type": "code",
   "execution_count": 1,
   "id": "c207d551-ecf7-48ca-9be0-9d157c09bf03",
   "metadata": {
    "tags": []
   },
   "outputs": [],
   "source": [
    "import numpy as np"
   ]
  },
  {
   "cell_type": "code",
   "execution_count": 2,
   "id": "c928c111-fb1c-4203-87ca-4fea357866d2",
   "metadata": {
    "tags": []
   },
   "outputs": [
    {
     "data": {
      "text/plain": [
       "11"
      ]
     },
     "execution_count": 2,
     "metadata": {},
     "output_type": "execute_result"
    }
   ],
   "source": [
    "np.random.randint(12)"
   ]
  },
  {
   "cell_type": "code",
   "execution_count": 3,
   "id": "1a6cdb19-0938-4df2-b80e-b23e7092955f",
   "metadata": {
    "tags": []
   },
   "outputs": [],
   "source": [
    "arr1=np.random.randn(12)"
   ]
  },
  {
   "cell_type": "code",
   "execution_count": 4,
   "id": "723aeffb-a735-4778-8a00-973cedc9c42d",
   "metadata": {
    "tags": []
   },
   "outputs": [
    {
     "data": {
      "text/plain": [
       "array([ 0.75437263, -0.30566148,  0.96717203,  0.88772548,  0.07128481,\n",
       "        0.18646117, -0.0663356 , -0.55695265,  0.33905565,  2.33277039,\n",
       "       -0.70435165,  0.87111555])"
      ]
     },
     "execution_count": 4,
     "metadata": {},
     "output_type": "execute_result"
    }
   ],
   "source": [
    "arr1"
   ]
  },
  {
   "cell_type": "code",
   "execution_count": 5,
   "id": "de08cdad-6cfa-41b6-acfc-1c47f2ccdfe0",
   "metadata": {
    "tags": []
   },
   "outputs": [
    {
     "name": "stderr",
     "output_type": "stream",
     "text": [
      "C:\\Users\\yogar\\AppData\\Local\\Temp\\ipykernel_20656\\3299852782.py:1: RuntimeWarning: invalid value encountered in sqrt\n",
      "  np.sqrt(arr1)\n"
     ]
    },
    {
     "data": {
      "text/plain": [
       "array([0.86854628,        nan, 0.98344905, 0.94219185, 0.26699215,\n",
       "       0.4318115 ,        nan,        nan, 0.58228486, 1.52734095,\n",
       "              nan, 0.93333571])"
      ]
     },
     "execution_count": 5,
     "metadata": {},
     "output_type": "execute_result"
    }
   ],
   "source": [
    "np.sqrt(arr1)"
   ]
  },
  {
   "cell_type": "code",
   "execution_count": 6,
   "id": "919eca77-01ef-4a69-a013-43708f627ac3",
   "metadata": {
    "tags": []
   },
   "outputs": [
    {
     "data": {
      "text/plain": [
       "array([ 2.12627715,  0.73663594,  2.63049497,  2.42959719,  1.07388703,\n",
       "        1.20497783,  0.93581675,  0.57295239,  1.40362146, 10.30645493,\n",
       "        0.49442903,  2.38957505])"
      ]
     },
     "execution_count": 6,
     "metadata": {},
     "output_type": "execute_result"
    }
   ],
   "source": [
    "np.exp(arr1)"
   ]
  },
  {
   "cell_type": "code",
   "execution_count": 7,
   "id": "bcd11c47-9d33-4a0e-ba7e-6cb3c447e1c8",
   "metadata": {
    "tags": []
   },
   "outputs": [],
   "source": [
    "arr2=np.random.randn(12)"
   ]
  },
  {
   "cell_type": "code",
   "execution_count": 8,
   "id": "7a58ae78-10a1-4868-becd-bf88b3664157",
   "metadata": {
    "tags": []
   },
   "outputs": [
    {
     "data": {
      "text/plain": [
       "array([-0.43005225, -0.56106588,  0.69560972, -0.7228123 ,  0.78097951,\n",
       "       -0.71091097, -1.32180033, -1.02831247, -1.49051113,  1.6039648 ,\n",
       "        1.02832993,  0.09273232])"
      ]
     },
     "execution_count": 8,
     "metadata": {},
     "output_type": "execute_result"
    }
   ],
   "source": [
    "arr2"
   ]
  },
  {
   "cell_type": "code",
   "execution_count": 10,
   "id": "96a4220f-85a4-4129-80d3-dd28ac700d4c",
   "metadata": {
    "tags": []
   },
   "outputs": [
    {
     "data": {
      "text/plain": [
       "array([ 0.32432038, -0.86672736,  1.66278175,  0.16491318,  0.85226431,\n",
       "       -0.5244498 , -1.38813593, -1.58526512, -1.15145548,  3.93673519,\n",
       "        0.32397828,  0.96384787])"
      ]
     },
     "execution_count": 10,
     "metadata": {},
     "output_type": "execute_result"
    }
   ],
   "source": [
    "np.add(arr1,arr2)"
   ]
  },
  {
   "cell_type": "code",
   "execution_count": 13,
   "id": "2fb14496-6ef1-4f75-8bca-49a2ff1a39dc",
   "metadata": {
    "tags": []
   },
   "outputs": [
    {
     "data": {
      "text/plain": [
       "array([-0.43005225, -0.56106588,  0.69560972, -0.7228123 ,  0.07128481,\n",
       "       -0.71091097, -1.32180033, -1.02831247, -1.49051113,  1.6039648 ,\n",
       "       -0.70435165,  0.09273232])"
      ]
     },
     "execution_count": 13,
     "metadata": {},
     "output_type": "execute_result"
    }
   ],
   "source": [
    "np.minimum(arr1,arr2)"
   ]
  },
  {
   "cell_type": "code",
   "execution_count": 14,
   "id": "5af99c19-c079-400c-9d36-f791e6f5db37",
   "metadata": {
    "tags": []
   },
   "outputs": [
    {
     "data": {
      "text/plain": [
       "array([ 0.75437263, -0.30566148,  0.96717203,  0.88772548,  0.78097951,\n",
       "        0.18646117, -0.0663356 , -0.55695265,  0.33905565,  2.33277039,\n",
       "        1.02832993,  0.87111555])"
      ]
     },
     "execution_count": 14,
     "metadata": {},
     "output_type": "execute_result"
    }
   ],
   "source": [
    "np.maximum(arr1,arr2)"
   ]
  },
  {
   "cell_type": "code",
   "execution_count": null,
   "id": "85b0c21e-1f21-46a3-8f47-f53c60c2c13b",
   "metadata": {},
   "outputs": [],
   "source": []
  }
 ],
 "metadata": {
  "kernelspec": {
   "display_name": "Python 3 (ipykernel)",
   "language": "python",
   "name": "python3"
  },
  "language_info": {
   "codemirror_mode": {
    "name": "ipython",
    "version": 3
   },
   "file_extension": ".py",
   "mimetype": "text/x-python",
   "name": "python",
   "nbconvert_exporter": "python",
   "pygments_lexer": "ipython3",
   "version": "3.10.9"
  }
 },
 "nbformat": 4,
 "nbformat_minor": 5
}
