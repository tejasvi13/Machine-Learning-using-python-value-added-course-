{
 "cells": [
  {
   "cell_type": "code",
   "execution_count": 1,
   "id": "1b64497c-8ead-48a6-afef-947142acb42d",
   "metadata": {
    "tags": []
   },
   "outputs": [],
   "source": [
    "import numpy as np"
   ]
  },
  {
   "cell_type": "code",
   "execution_count": 2,
   "id": "bbb6b56f-721e-4967-8943-bd9b43c23c88",
   "metadata": {
    "tags": []
   },
   "outputs": [],
   "source": [
    "ls=[14,34,56,78,99,200,12.4,5,7.8]"
   ]
  },
  {
   "cell_type": "code",
   "execution_count": 3,
   "id": "9e46463f-4495-496f-ade0-faeb0906e0c5",
   "metadata": {
    "tags": []
   },
   "outputs": [],
   "source": [
    "arr=np.array(ls)"
   ]
  },
  {
   "cell_type": "code",
   "execution_count": 4,
   "id": "570d98ac-c44b-4c09-9d21-8754766d2b56",
   "metadata": {
    "tags": []
   },
   "outputs": [
    {
     "data": {
      "text/plain": [
       "array([ 14. ,  34. ,  56. ,  78. ,  99. , 200. ,  12.4,   5. ,   7.8])"
      ]
     },
     "execution_count": 4,
     "metadata": {},
     "output_type": "execute_result"
    }
   ],
   "source": [
    "arr"
   ]
  },
  {
   "cell_type": "code",
   "execution_count": 5,
   "id": "4e891e48-8831-4819-aee4-7f98d731ebb7",
   "metadata": {
    "tags": []
   },
   "outputs": [
    {
     "data": {
      "text/plain": [
       "14.0"
      ]
     },
     "execution_count": 5,
     "metadata": {},
     "output_type": "execute_result"
    }
   ],
   "source": [
    "arr[0]"
   ]
  },
  {
   "cell_type": "code",
   "execution_count": 6,
   "id": "b334b433-2ae5-4c73-a8aa-edc564a04ff4",
   "metadata": {
    "tags": []
   },
   "outputs": [
    {
     "data": {
      "text/plain": [
       "5.0"
      ]
     },
     "execution_count": 6,
     "metadata": {},
     "output_type": "execute_result"
    }
   ],
   "source": [
    "arr[7]"
   ]
  },
  {
   "cell_type": "code",
   "execution_count": 7,
   "id": "a3b7924a-2d15-4754-b259-76f8c47ceb94",
   "metadata": {
    "tags": []
   },
   "outputs": [
    {
     "data": {
      "text/plain": [
       "(9,)"
      ]
     },
     "execution_count": 7,
     "metadata": {},
     "output_type": "execute_result"
    }
   ],
   "source": [
    "arr.shape"
   ]
  },
  {
   "cell_type": "code",
   "execution_count": 8,
   "id": "7eb519f2-0a09-43d3-96ba-bbd609537d71",
   "metadata": {
    "tags": []
   },
   "outputs": [
    {
     "data": {
      "text/plain": [
       "array([56., 78., 99.])"
      ]
     },
     "execution_count": 8,
     "metadata": {},
     "output_type": "execute_result"
    }
   ],
   "source": [
    "arr[2:5]"
   ]
  },
  {
   "cell_type": "code",
   "execution_count": 9,
   "id": "063503ca-5aaa-431c-ad3c-f966d864d39b",
   "metadata": {
    "tags": []
   },
   "outputs": [
    {
     "data": {
      "text/plain": [
       "array([ 78. ,  99. , 200. ,  12.4,   5. ])"
      ]
     },
     "execution_count": 9,
     "metadata": {},
     "output_type": "execute_result"
    }
   ],
   "source": [
    "arr[3:8] #arr[a:b]"
   ]
  },
  {
   "cell_type": "code",
   "execution_count": 10,
   "id": "00186219-b793-4aa2-9872-6571e60c66c5",
   "metadata": {
    "tags": []
   },
   "outputs": [
    {
     "data": {
      "text/plain": [
       "56.0"
      ]
     },
     "execution_count": 10,
     "metadata": {},
     "output_type": "execute_result"
    }
   ],
   "source": [
    "arr[2]"
   ]
  },
  {
   "cell_type": "code",
   "execution_count": 11,
   "id": "e3268d41-8642-41ed-80e6-06d24fb307d9",
   "metadata": {
    "tags": []
   },
   "outputs": [],
   "source": [
    "arr[1:3]=44"
   ]
  },
  {
   "cell_type": "code",
   "execution_count": 12,
   "id": "c50360e4-3d48-4685-a5e8-05d3fd4115c0",
   "metadata": {
    "tags": []
   },
   "outputs": [
    {
     "data": {
      "text/plain": [
       "array([ 14. ,  44. ,  44. ,  78. ,  99. , 200. ,  12.4,   5. ,   7.8])"
      ]
     },
     "execution_count": 12,
     "metadata": {},
     "output_type": "execute_result"
    }
   ],
   "source": [
    "arr"
   ]
  },
  {
   "cell_type": "code",
   "execution_count": 13,
   "id": "8470e55b-105c-4473-bbb0-20b157d21935",
   "metadata": {
    "tags": []
   },
   "outputs": [],
   "source": [
    "array_slice=arr[3:8]"
   ]
  },
  {
   "cell_type": "code",
   "execution_count": 14,
   "id": "d26dc149-bc6e-452f-8f8b-8e48de383c42",
   "metadata": {
    "tags": []
   },
   "outputs": [
    {
     "data": {
      "text/plain": [
       "array([ 78. ,  99. , 200. ,  12.4,   5. ])"
      ]
     },
     "execution_count": 14,
     "metadata": {},
     "output_type": "execute_result"
    }
   ],
   "source": [
    "array_slice"
   ]
  },
  {
   "cell_type": "code",
   "execution_count": 15,
   "id": "c2dec2a9-f7cc-4b1b-9c60-1adace3eee68",
   "metadata": {
    "tags": []
   },
   "outputs": [
    {
     "data": {
      "text/plain": [
       "array([ 99. , 200. ,  12.4,   5. ])"
      ]
     },
     "execution_count": 15,
     "metadata": {},
     "output_type": "execute_result"
    }
   ],
   "source": [
    "array_slice[1:]"
   ]
  },
  {
   "cell_type": "code",
   "execution_count": 16,
   "id": "a7af3467-e016-4ed5-95eb-53e1304cb7a3",
   "metadata": {
    "tags": []
   },
   "outputs": [],
   "source": [
    "array_slice[:]=-1"
   ]
  },
  {
   "cell_type": "code",
   "execution_count": 17,
   "id": "e9be7e1e-3dc1-4709-ac10-7209dc2fd745",
   "metadata": {
    "tags": []
   },
   "outputs": [
    {
     "data": {
      "text/plain": [
       "array([-1., -1., -1., -1., -1.])"
      ]
     },
     "execution_count": 17,
     "metadata": {},
     "output_type": "execute_result"
    }
   ],
   "source": [
    "array_slice"
   ]
  },
  {
   "cell_type": "code",
   "execution_count": 18,
   "id": "154fac9d-59b6-4198-847e-b8d88f8d644d",
   "metadata": {
    "tags": []
   },
   "outputs": [
    {
     "data": {
      "text/plain": [
       "array([14. , 44. , 44. , -1. , -1. , -1. , -1. , -1. ,  7.8])"
      ]
     },
     "execution_count": 18,
     "metadata": {},
     "output_type": "execute_result"
    }
   ],
   "source": [
    "arr"
   ]
  },
  {
   "cell_type": "code",
   "execution_count": 19,
   "id": "b1766bc7-a2f7-40b6-984f-af98137aff94",
   "metadata": {
    "tags": []
   },
   "outputs": [],
   "source": [
    "arrw=arr.copy()"
   ]
  },
  {
   "cell_type": "code",
   "execution_count": 20,
   "id": "bcef4ef2-307f-4a08-8e9f-26285f95d853",
   "metadata": {
    "tags": []
   },
   "outputs": [],
   "source": [
    "arrw[3]=56"
   ]
  },
  {
   "cell_type": "code",
   "execution_count": 21,
   "id": "3d327e20-9041-4c91-8280-dc1d7a9d63ec",
   "metadata": {
    "tags": []
   },
   "outputs": [
    {
     "data": {
      "text/plain": [
       "array([14. , 44. , 44. , 56. , -1. , -1. , -1. , -1. ,  7.8])"
      ]
     },
     "execution_count": 21,
     "metadata": {},
     "output_type": "execute_result"
    }
   ],
   "source": [
    "arrw"
   ]
  },
  {
   "cell_type": "code",
   "execution_count": 22,
   "id": "21e351af-c70e-4b1a-8ef8-83fcfc3e3e92",
   "metadata": {
    "tags": []
   },
   "outputs": [],
   "source": [
    "arr=np.arange(90)"
   ]
  },
  {
   "cell_type": "code",
   "execution_count": 23,
   "id": "46d2ffbe-645e-413b-a3df-d0010f1c01ee",
   "metadata": {
    "tags": []
   },
   "outputs": [
    {
     "data": {
      "text/plain": [
       "array([ 0,  1,  2,  3,  4,  5,  6,  7,  8,  9, 10, 11, 12, 13, 14, 15, 16,\n",
       "       17, 18, 19, 20, 21, 22, 23, 24, 25, 26, 27, 28, 29, 30, 31, 32, 33,\n",
       "       34, 35, 36, 37, 38, 39, 40, 41, 42, 43, 44, 45, 46, 47, 48, 49, 50,\n",
       "       51, 52, 53, 54, 55, 56, 57, 58, 59, 60, 61, 62, 63, 64, 65, 66, 67,\n",
       "       68, 69, 70, 71, 72, 73, 74, 75, 76, 77, 78, 79, 80, 81, 82, 83, 84,\n",
       "       85, 86, 87, 88, 89])"
      ]
     },
     "execution_count": 23,
     "metadata": {},
     "output_type": "execute_result"
    }
   ],
   "source": [
    "arr"
   ]
  },
  {
   "cell_type": "code",
   "execution_count": 24,
   "id": "eabe710a-4dec-4182-86b7-d339a5bd95f8",
   "metadata": {
    "tags": []
   },
   "outputs": [],
   "source": [
    "arr=arr.reshape(9,10)"
   ]
  },
  {
   "cell_type": "code",
   "execution_count": 25,
   "id": "0ceae104-0e27-4afe-b1e6-be0b45755ba2",
   "metadata": {
    "tags": []
   },
   "outputs": [
    {
     "data": {
      "text/plain": [
       "array([[ 0,  1,  2,  3,  4,  5,  6,  7,  8,  9],\n",
       "       [10, 11, 12, 13, 14, 15, 16, 17, 18, 19],\n",
       "       [20, 21, 22, 23, 24, 25, 26, 27, 28, 29],\n",
       "       [30, 31, 32, 33, 34, 35, 36, 37, 38, 39],\n",
       "       [40, 41, 42, 43, 44, 45, 46, 47, 48, 49],\n",
       "       [50, 51, 52, 53, 54, 55, 56, 57, 58, 59],\n",
       "       [60, 61, 62, 63, 64, 65, 66, 67, 68, 69],\n",
       "       [70, 71, 72, 73, 74, 75, 76, 77, 78, 79],\n",
       "       [80, 81, 82, 83, 84, 85, 86, 87, 88, 89]])"
      ]
     },
     "execution_count": 25,
     "metadata": {},
     "output_type": "execute_result"
    }
   ],
   "source": [
    "arr"
   ]
  },
  {
   "cell_type": "code",
   "execution_count": 26,
   "id": "2ed230bc-0d20-4a37-bece-aefbf5acc50b",
   "metadata": {
    "tags": []
   },
   "outputs": [
    {
     "data": {
      "text/plain": [
       "(9, 10)"
      ]
     },
     "execution_count": 26,
     "metadata": {},
     "output_type": "execute_result"
    }
   ],
   "source": [
    "arr.shape"
   ]
  },
  {
   "cell_type": "code",
   "execution_count": 27,
   "id": "785c12a9-de15-403b-aee1-59a716742630",
   "metadata": {
    "tags": []
   },
   "outputs": [
    {
     "data": {
      "text/plain": [
       "11"
      ]
     },
     "execution_count": 27,
     "metadata": {},
     "output_type": "execute_result"
    }
   ],
   "source": [
    "arr[1,1]"
   ]
  },
  {
   "cell_type": "code",
   "execution_count": 28,
   "id": "8056a000-ac0f-4a92-a87f-746d017af20e",
   "metadata": {
    "tags": []
   },
   "outputs": [
    {
     "data": {
      "text/plain": [
       "23"
      ]
     },
     "execution_count": 28,
     "metadata": {},
     "output_type": "execute_result"
    }
   ],
   "source": [
    "arr[2,3]"
   ]
  },
  {
   "cell_type": "code",
   "execution_count": 29,
   "id": "b53f8d4d-1a33-4ad6-9086-b1694e9f6e33",
   "metadata": {
    "tags": []
   },
   "outputs": [
    {
     "data": {
      "text/plain": [
       "55"
      ]
     },
     "execution_count": 29,
     "metadata": {},
     "output_type": "execute_result"
    }
   ],
   "source": [
    "arr[5,5]"
   ]
  },
  {
   "cell_type": "code",
   "execution_count": 30,
   "id": "1788717a-c0db-4a69-a892-ccdbdd61223d",
   "metadata": {
    "tags": []
   },
   "outputs": [
    {
     "data": {
      "text/plain": [
       "67"
      ]
     },
     "execution_count": 30,
     "metadata": {},
     "output_type": "execute_result"
    }
   ],
   "source": [
    "arr[6,7]"
   ]
  },
  {
   "cell_type": "code",
   "execution_count": 31,
   "id": "bbcf71b2-30d5-4a72-b276-99f3a38aaca0",
   "metadata": {
    "tags": []
   },
   "outputs": [
    {
     "data": {
      "text/plain": [
       "14"
      ]
     },
     "execution_count": 31,
     "metadata": {},
     "output_type": "execute_result"
    }
   ],
   "source": [
    "# multidimensional arrays\n",
    "arr[1][4]\n"
   ]
  },
  {
   "cell_type": "code",
   "execution_count": 32,
   "id": "3d6b2253-09e4-4cf0-99b1-227f9ba5102e",
   "metadata": {
    "tags": []
   },
   "outputs": [
    {
     "data": {
      "text/plain": [
       "24"
      ]
     },
     "execution_count": 32,
     "metadata": {},
     "output_type": "execute_result"
    }
   ],
   "source": [
    "arr[2][4]"
   ]
  },
  {
   "cell_type": "code",
   "execution_count": 33,
   "id": "0548d707-4809-44e8-99c5-16773c7183a5",
   "metadata": {
    "tags": []
   },
   "outputs": [],
   "source": [
    "arr=arr.reshape(9,2,5)"
   ]
  },
  {
   "cell_type": "code",
   "execution_count": 34,
   "id": "642fdc71-171e-4dbe-8931-b78e962d259b",
   "metadata": {
    "tags": []
   },
   "outputs": [
    {
     "data": {
      "text/plain": [
       "array([[[ 0,  1,  2,  3,  4],\n",
       "        [ 5,  6,  7,  8,  9]],\n",
       "\n",
       "       [[10, 11, 12, 13, 14],\n",
       "        [15, 16, 17, 18, 19]],\n",
       "\n",
       "       [[20, 21, 22, 23, 24],\n",
       "        [25, 26, 27, 28, 29]],\n",
       "\n",
       "       [[30, 31, 32, 33, 34],\n",
       "        [35, 36, 37, 38, 39]],\n",
       "\n",
       "       [[40, 41, 42, 43, 44],\n",
       "        [45, 46, 47, 48, 49]],\n",
       "\n",
       "       [[50, 51, 52, 53, 54],\n",
       "        [55, 56, 57, 58, 59]],\n",
       "\n",
       "       [[60, 61, 62, 63, 64],\n",
       "        [65, 66, 67, 68, 69]],\n",
       "\n",
       "       [[70, 71, 72, 73, 74],\n",
       "        [75, 76, 77, 78, 79]],\n",
       "\n",
       "       [[80, 81, 82, 83, 84],\n",
       "        [85, 86, 87, 88, 89]]])"
      ]
     },
     "execution_count": 34,
     "metadata": {},
     "output_type": "execute_result"
    }
   ],
   "source": [
    "arr"
   ]
  },
  {
   "cell_type": "code",
   "execution_count": 35,
   "id": "cd9e6074-7008-4d55-b0cf-a13a447bfce9",
   "metadata": {
    "tags": []
   },
   "outputs": [
    {
     "data": {
      "text/plain": [
       "array([[70, 71, 72, 73, 74],\n",
       "       [75, 76, 77, 78, 79]])"
      ]
     },
     "execution_count": 35,
     "metadata": {},
     "output_type": "execute_result"
    }
   ],
   "source": [
    "arr[7]"
   ]
  },
  {
   "cell_type": "code",
   "execution_count": 36,
   "id": "6890c94a-7c13-483a-a6a3-d40309d68822",
   "metadata": {
    "tags": []
   },
   "outputs": [
    {
     "data": {
      "text/plain": [
       "array([30, 31, 32, 33, 34])"
      ]
     },
     "execution_count": 36,
     "metadata": {},
     "output_type": "execute_result"
    }
   ],
   "source": [
    "arr[3][0]"
   ]
  },
  {
   "cell_type": "code",
   "execution_count": null,
   "id": "b14fad8c-b923-4ef3-a8a6-07dbd244184e",
   "metadata": {},
   "outputs": [],
   "source": []
  }
 ],
 "metadata": {
  "kernelspec": {
   "display_name": "Python 3 (ipykernel)",
   "language": "python",
   "name": "python3"
  },
  "language_info": {
   "codemirror_mode": {
    "name": "ipython",
    "version": 3
   },
   "file_extension": ".py",
   "mimetype": "text/x-python",
   "name": "python",
   "nbconvert_exporter": "python",
   "pygments_lexer": "ipython3",
   "version": "3.10.9"
  }
 },
 "nbformat": 4,
 "nbformat_minor": 5
}
