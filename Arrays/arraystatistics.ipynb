{
 "cells": [
  {
   "cell_type": "code",
   "execution_count": 1,
   "id": "9ad87908-7256-4513-ba69-c27fc37f3629",
   "metadata": {
    "tags": []
   },
   "outputs": [],
   "source": [
    "import numpy as np\n"
   ]
  },
  {
   "cell_type": "code",
   "execution_count": 2,
   "id": "541e9ce9-fe8a-4097-9de7-b445c05f2f0c",
   "metadata": {
    "tags": []
   },
   "outputs": [],
   "source": [
    "arr=np.random.randn(4,4)"
   ]
  },
  {
   "cell_type": "code",
   "execution_count": 3,
   "id": "4e46309b-5c15-456b-b580-4205b63959da",
   "metadata": {
    "tags": []
   },
   "outputs": [
    {
     "data": {
      "text/plain": [
       "array([[ 0.66845956, -0.54120402, -1.90028635, -0.32967023],\n",
       "       [ 1.10163052,  0.65172479, -2.37669249, -1.22420385],\n",
       "       [ 0.81262106, -0.71276641,  0.35326979, -2.53548508],\n",
       "       [-1.38026031, -0.11730294, -0.53465843,  0.68748617]])"
      ]
     },
     "execution_count": 3,
     "metadata": {},
     "output_type": "execute_result"
    }
   ],
   "source": [
    "arr"
   ]
  },
  {
   "cell_type": "code",
   "execution_count": 4,
   "id": "b9867e82-9bb8-4ee4-832d-9f27a231e7d3",
   "metadata": {
    "tags": []
   },
   "outputs": [
    {
     "data": {
      "text/plain": [
       "-7.377338203890348"
      ]
     },
     "execution_count": 4,
     "metadata": {},
     "output_type": "execute_result"
    }
   ],
   "source": [
    "arr.sum()"
   ]
  },
  {
   "cell_type": "code",
   "execution_count": 5,
   "id": "9be91569-87a8-4584-a6a2-d62c886721cb",
   "metadata": {
    "tags": []
   },
   "outputs": [
    {
     "data": {
      "text/plain": [
       "-0.46108363774314676"
      ]
     },
     "execution_count": 5,
     "metadata": {},
     "output_type": "execute_result"
    }
   ],
   "source": [
    "arr.mean()"
   ]
  },
  {
   "cell_type": "code",
   "execution_count": 6,
   "id": "7c355c71-5123-4977-9f41-fe60943545d8",
   "metadata": {
    "tags": []
   },
   "outputs": [
    {
     "data": {
      "text/plain": [
       "1.2651791535314403"
      ]
     },
     "execution_count": 6,
     "metadata": {},
     "output_type": "execute_result"
    }
   ],
   "source": [
    "arr.var()"
   ]
  },
  {
   "cell_type": "code",
   "execution_count": 7,
   "id": "9a803b8c-c625-40e2-a854-3b2be72a6dcc",
   "metadata": {
    "tags": []
   },
   "outputs": [
    {
     "data": {
      "text/plain": [
       "1.124801828559787"
      ]
     },
     "execution_count": 7,
     "metadata": {},
     "output_type": "execute_result"
    }
   ],
   "source": [
    "arr.std()"
   ]
  },
  {
   "cell_type": "code",
   "execution_count": 8,
   "id": "36595223-fe64-48d6-b032-213cfe53d48a",
   "metadata": {
    "tags": []
   },
   "outputs": [
    {
     "data": {
      "text/plain": [
       "(array([0, 0, 0, 1, 1, 2, 2, 3, 3, 3], dtype=int64),\n",
       " array([1, 2, 3, 2, 3, 1, 3, 0, 1, 2], dtype=int64))"
      ]
     },
     "execution_count": 8,
     "metadata": {},
     "output_type": "execute_result"
    }
   ],
   "source": [
    "np.where(arr<0)\n"
   ]
  },
  {
   "cell_type": "code",
   "execution_count": 9,
   "id": "9b38771d-d1b4-42c8-9615-7285e6d06673",
   "metadata": {
    "tags": []
   },
   "outputs": [
    {
     "data": {
      "text/plain": [
       "array([[0.66845956, 0.        , 0.        , 0.        ],\n",
       "       [1.10163052, 0.65172479, 0.        , 0.        ],\n",
       "       [0.81262106, 0.        , 0.35326979, 0.        ],\n",
       "       [0.        , 0.        , 0.        , 0.68748617]])"
      ]
     },
     "execution_count": 9,
     "metadata": {},
     "output_type": "execute_result"
    }
   ],
   "source": [
    "np.where(arr<0,0,arr)"
   ]
  },
  {
   "cell_type": "code",
   "execution_count": 10,
   "id": "bda3beac-4878-43fd-b625-674779000326",
   "metadata": {
    "tags": []
   },
   "outputs": [],
   "source": [
    "arr.sort()"
   ]
  },
  {
   "cell_type": "code",
   "execution_count": 11,
   "id": "67700521-8b5e-49ec-86a5-6955f5dbfb25",
   "metadata": {
    "tags": []
   },
   "outputs": [
    {
     "data": {
      "text/plain": [
       "array([[-1.90028635, -0.54120402, -0.32967023,  0.66845956],\n",
       "       [-2.37669249, -1.22420385,  0.65172479,  1.10163052],\n",
       "       [-2.53548508, -0.71276641,  0.35326979,  0.81262106],\n",
       "       [-1.38026031, -0.53465843, -0.11730294,  0.68748617]])"
      ]
     },
     "execution_count": 11,
     "metadata": {},
     "output_type": "execute_result"
    }
   ],
   "source": [
    "arr"
   ]
  },
  {
   "cell_type": "code",
   "execution_count": null,
   "id": "b4f46e8f-a857-4e28-ba51-b11e15a7e0c1",
   "metadata": {},
   "outputs": [],
   "source": []
  }
 ],
 "metadata": {
  "kernelspec": {
   "display_name": "Python 3 (ipykernel)",
   "language": "python",
   "name": "python3"
  },
  "language_info": {
   "codemirror_mode": {
    "name": "ipython",
    "version": 3
   },
   "file_extension": ".py",
   "mimetype": "text/x-python",
   "name": "python",
   "nbconvert_exporter": "python",
   "pygments_lexer": "ipython3",
   "version": "3.10.9"
  }
 },
 "nbformat": 4,
 "nbformat_minor": 5
}
